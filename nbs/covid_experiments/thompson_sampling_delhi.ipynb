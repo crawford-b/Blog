{
 "cells": [
  {
   "cell_type": "code",
   "execution_count": null,
   "metadata": {},
   "outputs": [],
   "source": [
    "import networkx as nx\n",
    "import pandas as pd\n",
    "import numpy as np\n",
    "import scipy.stats as st\n",
    "import matplotlib.pyplot as plt\n",
    "import seaborn as sns\n",
    "\n",
    "from sklearn.datasets import make_spd_matrix"
   ]
  },
  {
   "cell_type": "markdown",
   "metadata": {},
   "source": [
    "# Small example"
   ]
  },
  {
   "cell_type": "code",
   "execution_count": null,
   "metadata": {},
   "outputs": [],
   "source": [
    "n_nodes = 30\n",
    "seed = 41\n",
    "infection_length = 7\n",
    "p_infectiousness = 0.2\n",
    "n_samples = 2"
   ]
  },
  {
   "cell_type": "code",
   "execution_count": null,
   "metadata": {},
   "outputs": [],
   "source": [
    "G = nx.generators.random_graphs.fast_gnp_random_graph(n_nodes, p = 0.3)"
   ]
  },
  {
   "cell_type": "code",
   "execution_count": null,
   "metadata": {},
   "outputs": [],
   "source": [
    "G = nx.generators.powerlaw_cluster_graph(20, 5, 0.2)"
   ]
  },
  {
   "cell_type": "code",
   "execution_count": null,
   "metadata": {},
   "outputs": [],
   "source": [
    "nx.draw_networkx(G, pos=nx.spring_layout(G))"
   ]
  },
  {
   "cell_type": "markdown",
   "metadata": {},
   "source": [
    "Infect a random subset of nodes"
   ]
  },
  {
   "cell_type": "code",
   "execution_count": null,
   "metadata": {},
   "outputs": [],
   "source": [
    "np.random.seed(seed + 2)\n",
    "initial_infections = np.random.binomial(1, 0.1, n_nodes)\n",
    "\n",
    "nx.set_node_attributes(G, dict(zip(np.arange(n_nodes), initial_infections)), name = \"infected\")\n",
    "nx.set_node_attributes(G, dict(zip(np.arange(n_nodes), np.zeros(n_nodes))), name = \"recovered\")\n",
    "nx.set_node_attributes(G, dict(zip(np.arange(n_nodes), np.where(initial_infections == 0, 1, 0))), name = \"susceptible\")\n",
    "nx.set_node_attributes(G, dict(zip(np.arange(n_nodes), np.zeros(n_nodes))), name = \"quarantined\")"
   ]
  },
  {
   "cell_type": "code",
   "execution_count": null,
   "metadata": {},
   "outputs": [],
   "source": [
    "np.where(initial_infections == 0, 1, 0)"
   ]
  },
  {
   "cell_type": "code",
   "execution_count": null,
   "metadata": {},
   "outputs": [],
   "source": [
    "nx.draw_networkx(G, pos=nx.spring_layout(G, seed=seed), node_color = list(nx.get_node_attributes(G, 'infected').values()), )"
   ]
  },
  {
   "cell_type": "markdown",
   "metadata": {},
   "source": [
    "Standard random sample"
   ]
  },
  {
   "cell_type": "code",
   "execution_count": null,
   "metadata": {},
   "outputs": [],
   "source": [
    "from time import sleep"
   ]
  },
  {
   "cell_type": "code",
   "execution_count": null,
   "metadata": {},
   "outputs": [],
   "source": [
    "def progress_disease(G):\n",
    "    \n",
    "    infected_nodes = [x for x,y in G.nodes(data=True) if (y['infected']>0)]\n",
    "    for idx in infected_nodes:\n",
    "        if G.nodes[idx]['infected'] >= infection_length:\n",
    "            G.nodes[idx]['infected'] = 0\n",
    "            G.nodes[idx]['recovered'] = 1\n",
    "        else:\n",
    "            G.nodes[idx]['infected'] += 1\n",
    "\n",
    "        if G.nodes[idx]['quarantined'] == 0:\n",
    "            #print(\"infecting others\")\n",
    "            neighbours = [n for n in G[idx].keys() if G.nodes[n]['susceptible'] == 1]            \n",
    "            for neighbour in neighbours:\n",
    "                G.nodes[neighbour]['susceptible'] = 0\n",
    "                G.nodes[neighbour]['infected'] = np.random.binomial(1, p_infectiousness)\n",
    "    return G"
   ]
  },
  {
   "cell_type": "code",
   "execution_count": null,
   "metadata": {},
   "outputs": [],
   "source": [
    "def sample_and_quarantine(G, idx_to_sample):\n",
    "    for idx in idx_to_sample:\n",
    "        if G.nodes[idx]['infected'] > 0:\n",
    "            G.nodes[idx]['quarantined'] = 1\n",
    "            \n",
    "    return G"
   ]
  },
  {
   "cell_type": "code",
   "execution_count": null,
   "metadata": {},
   "outputs": [],
   "source": [
    "def random_sample(G, seed = 42):\n",
    "    np.random.seed(seed)\n",
    "    n_infected = len([x for x,y in G.nodes(data=True) if y['infected']>0])\n",
    "    while (n_infected > 0) :\n",
    "\n",
    "        # randomly sample, if positive, quarantine\n",
    "        idx_to_sample = np.random.choice(np.arange(n_nodes), n_samples, replace=False)\n",
    "        G = sample_and_quarantine(G, idx_to_sample)\n",
    "\n",
    "        # progess the disease along the network\n",
    "        G = progress_disease(G)\n",
    "\n",
    "        n_infected = len([x for x,y in G.nodes(data=True) if y['infected']>0])\n",
    "        \n",
    "    return len([x for x,y in G.nodes(data=True) if y['recovered']])"
   ]
  },
  {
   "cell_type": "code",
   "execution_count": null,
   "metadata": {},
   "outputs": [],
   "source": [
    "def random_neigbour_sample(G, seed = 42):\n",
    "    np.random.seed(seed)\n",
    "    n_infected = len([x for x,y in G.nodes(data=True) if y['infected']>0])\n",
    "    while (n_infected > 0) :\n",
    "    \n",
    "        # randomly sample, if positive, quarantine\n",
    "        idx_to_sample = np.random.choice(np.arange(n_nodes), n_samples, replace=False)\n",
    "        # Get it's neighbour instead\n",
    "        idx_to_sample = [np.random.choice(list(G[idx].keys())) for idx in idx_to_sample]\n",
    "        \n",
    "        #while len(set_of_all_neighbours) < n_samples:\n",
    "        #    set_of_all_neighbours = set_of_all_neighbours.union(np.random.choice(idx_to_sample, n_samples - len(set_of_all_neighbours), replace = False))\n",
    "            \n",
    "        #idx_to_sample = np.random.choice(set_of_all_neighbours, n_samples, replace=False)\n",
    "        #print(set_of_all_neighbours)\n",
    "        \n",
    "        G = sample_and_quarantine(G, idx_to_sample)\n",
    "\n",
    "        # progess the disease along the network\n",
    "        G = progress_disease(G)\n",
    "\n",
    "        n_infected = len([x for x,y in G.nodes(data=True) if y['infected']>0])\n",
    "    \n",
    "    return len([x for x,y in G.nodes(data=True) if y['recovered']])"
   ]
  },
  {
   "cell_type": "code",
   "execution_count": null,
   "metadata": {},
   "outputs": [],
   "source": [
    "n_iters = 1000\n",
    "results = []\n",
    "\n",
    "n_nodes = 1000\n",
    "seed = 50\n",
    "infection_length = 14\n",
    "p_infectiousness = 0.5\n",
    "n_samples = 15\n",
    "\n",
    "\n",
    "for i in range(n_iters):\n",
    "    \n",
    "    #G = nx.generators.random_graphs.fast_gnp_random_graph(n_nodes, p = 0.3)\n",
    "    G = nx.generators.powerlaw_cluster_graph(n_nodes, 1, 0)\n",
    "    \n",
    "    np.random.seed(seed + i)\n",
    "    initial_infections = np.random.binomial(1, 0.1, n_nodes)\n",
    "\n",
    "    nx.set_node_attributes(G, dict(zip(np.arange(n_nodes), initial_infections)), name = \"infected\")\n",
    "    nx.set_node_attributes(G, dict(zip(np.arange(n_nodes), np.zeros(n_nodes))), name = \"recovered\")\n",
    "    nx.set_node_attributes(G, dict(zip(np.arange(n_nodes), np.where(initial_infections == 0, 1, 0))), name = \"susceptible\")\n",
    "    nx.set_node_attributes(G, dict(zip(np.arange(n_nodes), np.zeros(n_nodes))), name = \"quarantined\")\n",
    "    \n",
    "    H = G.copy()\n",
    "    \n",
    "    results.append({'neighbour': random_neigbour_sample(H, seed + i), 'random': random_sample(G, seed + i)})\n",
    "    "
   ]
  },
  {
   "cell_type": "code",
   "execution_count": null,
   "metadata": {},
   "outputs": [],
   "source": [
    "df = pd.DataFrame(results)\n",
    "df.mean(), df.std()"
   ]
  },
  {
   "cell_type": "code",
   "execution_count": null,
   "metadata": {},
   "outputs": [],
   "source": [
    "plt.plot(df['neighbour'], df['random'], \".\")\n",
    "plt.plot([100, 400], [100, 400])"
   ]
  },
  {
   "cell_type": "markdown",
   "metadata": {},
   "source": [
    "# Test to get the most people"
   ]
  },
  {
   "cell_type": "code",
   "execution_count": null,
   "metadata": {},
   "outputs": [],
   "source": [
    "import pymc3 as pm\n",
    "import theano.tensor as tt\n",
    "import theano as tt\n",
    "import json\n",
    "import pandas as pd\n",
    "import plotly.express as px\n"
   ]
  },
  {
   "cell_type": "code",
   "execution_count": null,
   "metadata": {},
   "outputs": [],
   "source": [
    "!pwd"
   ]
  },
  {
   "cell_type": "code",
   "execution_count": null,
   "metadata": {},
   "outputs": [],
   "source": [
    "with open(\"../../../Documents/IDInsight/Covid/delhi_covid_analytics/data/00_raw/Daily_analytical_report/supporting data/Delhi_wards.json\") as g:\n",
    "    wards = json.load(g)\n",
    "    \n",
    "df = pd.read_csv(\"prevelance_data.csv\")\n",
    "df['actual_prevalence'] = df['proj']"
   ]
  },
  {
   "cell_type": "code",
   "execution_count": null,
   "metadata": {},
   "outputs": [],
   "source": [
    "fig = px.choropleth(df, geojson=wards, locations=\"id\", featureidkey=\"properties.IS_WC\",\n",
    "                        projection=\"mercator\",\n",
    "                        color='actual_prevalence', \n",
    "                        hover_data = {'actual_prevalence': ':.2f', 'id':False},\n",
    "                        )\n",
    "fig.update(layout_coloraxis_showscale=False)\n",
    "fig.update_geos(fitbounds=\"locations\", visible=False)\n",
    "fig.update_layout(margin={\"r\":0,\"t\":0,\"l\":0,\"b\":0}, showlegend=False)\n",
    "fig.write_html(\"../../../sidravi1.github.io/_includes/blog_contents/actuals_delhi.html\")\n",
    "fig.show()"
   ]
  },
  {
   "cell_type": "code",
   "execution_count": null,
   "metadata": {},
   "outputs": [],
   "source": [
    "df['trials'] = np.random.randint(100, 1000, size= df.actual_prevalence.shape[0])\n",
    "df['successes'] = st.binom(df.trials, df.actual_prevalence).rvs()\n",
    "df['success_rate'] = df['successes'] / df['trials']"
   ]
  },
  {
   "cell_type": "code",
   "execution_count": null,
   "metadata": {},
   "outputs": [],
   "source": [
    "fig = px.choropleth(df, geojson=wards, locations=\"id\", featureidkey=\"properties.IS_WC\",\n",
    "                        projection=\"mercator\",\n",
    "                        color='success_rate', \n",
    "                        hover_data = {'actual_prevalence': ':.2f','success_rate': ':.2f', 'id':False},\n",
    "                        )\n",
    "fig.update(layout_coloraxis_showscale=False)\n",
    "fig.update_geos(fitbounds=\"locations\", visible=False)\n",
    "fig.update_layout(margin={\"r\":0,\"t\":0,\"l\":0,\"b\":0}, showlegend=False)\n",
    "fig.write_html(\"../../../sidravi1.github.io/_includes/blog_contents/raw_rates_delhi.html\")\n",
    "fig.show()"
   ]
  },
  {
   "cell_type": "code",
   "execution_count": null,
   "metadata": {},
   "outputs": [],
   "source": [
    "X = df[['lat', 'lon']].values\n",
    "\n",
    "X_std = (X - X.mean(axis = 0)) / X.std(axis = 0)\n",
    "y = df['successes'].values\n",
    "n = df['trials'].values"
   ]
  },
  {
   "cell_type": "code",
   "execution_count": null,
   "metadata": {},
   "outputs": [],
   "source": [
    "with pm.Model() as gp_field:\n",
    "    \n",
    "    rho_x1 = pm.Exponential(\"rho_x1\", lam=5)\n",
    "    eta_x1 = pm.Exponential(\"eta_x1\", lam=2)\n",
    "\n",
    "    rho_x2 = pm.Exponential(\"rho_x2\", lam=5)\n",
    "    eta_x2 = pm.Exponential(\"eta_x2\", lam=2)\n",
    "    \n",
    "    K_x1 = eta_x1**2 * pm.gp.cov.ExpQuad(1, ls=rho_x1)\n",
    "    K_x2 = eta_x2**2 * pm.gp.cov.ExpQuad(1, ls=rho_x2)\n",
    "    \n",
    "    gp_x1 = pm.gp.Latent(cov_func=K_x1)\n",
    "    gp_x2 = pm.gp.Latent(cov_func=K_x2)\n",
    "    \n",
    "    f_x1 = gp_x1.prior(\"f_x1\", X=X_std[:,0][:, None])\n",
    "    f_x2 = gp_x2.prior(\"f_x2\", X=X_std[:,1][:, None])\n",
    "    \n",
    "    probs = pm.Deterministic('π', pm.invlogit(f_x1 + f_x2))\n",
    "    \n",
    "    obs = pm.Binomial('positive_cases', p = probs, n = n, observed = y.squeeze())\n",
    "    "
   ]
  },
  {
   "cell_type": "code",
   "execution_count": null,
   "metadata": {},
   "outputs": [],
   "source": [
    "trace = pm.sample(model = gp_field, cores = 1, chains = 1, tune = 1000)"
   ]
  },
  {
   "cell_type": "code",
   "execution_count": null,
   "metadata": {},
   "outputs": [],
   "source": [
    "trace['π'].mean(axis = 0)"
   ]
  },
  {
   "cell_type": "code",
   "execution_count": null,
   "metadata": {},
   "outputs": [],
   "source": [
    "trace['π'].std(axis = 0)"
   ]
  },
  {
   "cell_type": "code",
   "execution_count": null,
   "metadata": {},
   "outputs": [],
   "source": [
    "df['smooth_success_rate'] = trace['π'].mean(axis = 0)\n",
    "\n",
    "fig = px.choropleth(df, geojson=wards, locations=\"id\", featureidkey=\"properties.IS_WC\",\n",
    "                        projection=\"mercator\",\n",
    "                        color='smooth_success_rate', \n",
    "                        hover_data = {'actual_prevalence': ':.3f','smooth_success_rate': ':.3f', 'id':False},\n",
    "                        )\n",
    "fig.update(layout_coloraxis_showscale=False)\n",
    "fig.update_geos(fitbounds=\"locations\", visible=False)\n",
    "fig.update_layout(margin={\"r\":0,\"t\":0,\"l\":0,\"b\":0}, showlegend=False)\n",
    "fig.write_html(\"./fitted_smooth_delhi.html\")\n",
    "fig.show()\n"
   ]
  },
  {
   "cell_type": "code",
   "execution_count": null,
   "metadata": {},
   "outputs": [],
   "source": []
  }
 ],
 "metadata": {
  "kernelspec": {
   "display_name": "Python 3",
   "language": "python",
   "name": "python3"
  },
  "language_info": {
   "codemirror_mode": {
    "name": "ipython",
    "version": 3
   },
   "file_extension": ".py",
   "mimetype": "text/x-python",
   "name": "python",
   "nbconvert_exporter": "python",
   "pygments_lexer": "ipython3",
   "version": "3.7.7"
  }
 },
 "nbformat": 4,
 "nbformat_minor": 4
}
