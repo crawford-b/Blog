{
 "cells": [
  {
   "cell_type": "code",
   "execution_count": 1,
   "metadata": {},
   "outputs": [],
   "source": [
    "import numpy as np\n",
    "import scipy.stats as st\n",
    "import scipy as sp\n",
    "import pandas as pd\n",
    "\n",
    "import matplotlib.pyplot as plt\n",
    "import seaborn as sns\n",
    "import arviz as av\n",
    "import pymc3 as pm\n",
    "import theano as th\n",
    "import theano.tensor as tt"
   ]
  },
  {
   "cell_type": "code",
   "execution_count": 422,
   "metadata": {},
   "outputs": [
    {
     "data": {
      "text/plain": [
       "array([-5,  0, -7, -5,  0,  3,  5])"
      ]
     },
     "execution_count": 422,
     "metadata": {},
     "output_type": "execute_result"
    }
   ],
   "source": [
    "# Estimation on a subset of Alternatives\n",
    "\n",
    "np.random.seed(31)\n",
    "n_alternatives = 100 # or 2^7\n",
    "n_params = 7\n",
    "n_choices = 3\n",
    "n_decision_makers = 1000\n",
    "\n",
    "beta_trues = np.random.randint(-7, 7, size=n_params)\n",
    "beta_trues"
   ]
  },
  {
   "cell_type": "code",
   "execution_count": 423,
   "metadata": {},
   "outputs": [],
   "source": [
    "all_alternative_features = []\n",
    "for i in range(n_alternatives):\n",
    "    features = map(int, np.binary_repr(i, width = n_params))\n",
    "    all_alternative_features.append(list(features))\n",
    "    \n",
    "all_alternative_features = np.vstack([np.zeros((1, n_params)), np.random.permutation(all_alternative_features[1:])])"
   ]
  },
  {
   "cell_type": "code",
   "execution_count": 428,
   "metadata": {},
   "outputs": [],
   "source": [
    "main_shares = np.array([0.3, 0.2, 0.15, 0.15, 0.1])\n",
    "other_shares = np.random.dirichlet(np.ones(n_alternatives - 5), size=1).squeeze() * 0.1\n",
    "\n",
    "market_shares = np.hstack((main_shares, other_shares))"
   ]
  },
  {
   "cell_type": "code",
   "execution_count": null,
   "metadata": {},
   "outputs": [],
   "source": [
    "ax.xaxis.set_visible(False)"
   ]
  },
  {
   "cell_type": "code",
   "execution_count": 448,
   "metadata": {},
   "outputs": [
    {
     "data": {
      "image/png": "[encoded data removed]",
      "text/plain": [
       "<Figure size 1440x360 with 1 Axes>"
      ]
     },
     "metadata": {
      "needs_background": "light"
     },
     "output_type": "display_data"
    }
   ],
   "source": [
    "f, ax = plt.subplots(figsize=(20, 5))\n",
    "sns.barplot(np.arange(market_shares.shape[0]), market_shares)\n",
    "plt.grid()\n",
    "sns.despine(left=True)\n",
    "ax.xaxis.set_visible(False)\n",
    "plt.tight_layout()\n",
    "plt.savefig(\"../../../sidravi1.github.io/assets/20191120_market_shares.png\")"
   ]
  },
  {
   "cell_type": "code",
   "execution_count": 381,
   "metadata": {},
   "outputs": [],
   "source": [
    "probability_of_picked = market_share"
   ]
  },
  {
   "cell_type": "code",
   "execution_count": 385,
   "metadata": {},
   "outputs": [],
   "source": [
    "# Calculate utilities and the item chosen\n",
    "utilities = all_alternative_features @ beta_trues + np.random.gumbel(0, 2, size=(n_decision_makers, n_alternatives))\n",
    "\n",
    "# index of the item chosen\n",
    "idx_chosen = np.argmax(utilities, axis=1)\n",
    "\n",
    "# given this id has been chosen, let's pick other options\n",
    "choice_sets = []\n",
    "for i in range(n_decision_makers):\n",
    "    id_chosen = idx_chosen[i]\n",
    "    prob = probability_of_picked.copy()\n",
    "    prob[id_chosen] = 0\n",
    "    prob = prob / prob.sum()\n",
    "    \n",
    "    other_alternatives = np.random.choice(np.arange(n_alternatives), size = 3, replace = False, p = prob)\n",
    "    choice_set = np.hstack((id_chosen, other_alternatives))\n",
    "    choice_sets.append(choice_set)\n",
    "    \n",
    "choice_sets = np.array(choice_sets)"
   ]
  },
  {
   "cell_type": "code",
   "execution_count": 386,
   "metadata": {},
   "outputs": [],
   "source": [
    "choice_set_features = np.apply_along_axis(lambda x: all_alternative_features[x], 1, choice_sets)"
   ]
  },
  {
   "cell_type": "code",
   "execution_count": 387,
   "metadata": {},
   "outputs": [],
   "source": [
    "def q_K(K, probs):\n",
    "    if len(K) == 0:\n",
    "        return 1\n",
    "    else:\n",
    "        total = 0\n",
    "        for x in K:\n",
    "            val, probs_new = prob(x, probs)\n",
    "            total += val * q_K(K[K!=x], probs_new)\n",
    "        return total\n",
    "    \n",
    "def prob(x, probs):\n",
    "    probs_new = probs.copy()\n",
    "    val = probs_new[x]\n",
    "    probs_new[x] = 0\n",
    "    probs_new = probs_new / probs_new.sum()\n",
    "    return val, probs_new\n",
    "\n",
    "def q_Ki(i, K, probs):\n",
    "    \n",
    "    probs_copy = probs.copy()\n",
    "    probs_copy[i] = 0\n",
    "    probs_copy = probs_copy / probs_copy.sum()\n",
    "    \n",
    "    return q_K(K[K != i], probs_copy)"
   ]
  },
  {
   "cell_type": "code",
   "execution_count": 388,
   "metadata": {},
   "outputs": [],
   "source": [
    "q_Ki_vec = np.vectorize(q_Ki, excluded=set([\"K\", \"probs\"]))"
   ]
  },
  {
   "cell_type": "code",
   "execution_count": 390,
   "metadata": {},
   "outputs": [],
   "source": [
    "qK_i_matrix = []\n",
    "probability_of_picked_no_oo = probability_of_picked.copy()\n",
    "\n",
    "for i in range(n_decision_makers):\n",
    "    qKi_prob = q_Ki_vec(i = choice_sets[i, :].copy(), K = choice_sets[i, :].copy(), probs = probability_of_picked.copy())\n",
    "    qK_i_matrix.append(qKi_prob)\n",
    "\n",
    "qK_i_matrix = np.array(qK_i_matrix)"
   ]
  },
  {
   "cell_type": "code",
   "execution_count": 391,
   "metadata": {},
   "outputs": [
    {
     "data": {
      "text/plain": [
       "array([[ -2.54033976, -71.33598706, -71.44248803, -70.44967683],\n",
       "       [ -2.40474601,  -3.02198712,  -2.00737491,  -3.11617137],\n",
       "       [ -2.21689612, -14.39471235, -13.64990081, -14.29218369],\n",
       "       ...,\n",
       "       [ -3.34948135,  -4.08189949,  -3.9825171 ,  -2.13522858],\n",
       "       [ -2.91701188, -55.26259245, -56.45919177, -56.56885091],\n",
       "       [ -4.5560723 , -72.51178809, -73.66124155, -72.32895189]])"
      ]
     },
     "execution_count": 391,
     "metadata": {},
     "output_type": "execute_result"
    }
   ],
   "source": [
    "#qKi_oo = np.repeat(1 / sp.special.comb(n_alternatives - 1, n_choices - 1), n_decision_makers).reshape(-1, 1)\n",
    "#qKi_matrix_oo = np.hstack((qKi_oo, qKi_matrix))\n",
    "\n",
    "ln_qKi_matrix = np.log(qK_i_matrix)\n",
    "ln_qKi_matrix"
   ]
  },
  {
   "cell_type": "code",
   "execution_count": 392,
   "metadata": {},
   "outputs": [],
   "source": [
    "choice = np.zeros((n_decision_makers, n_choices + 1))\n",
    "choice[:, 0] = 1"
   ]
  },
  {
   "cell_type": "code",
   "execution_count": 400,
   "metadata": {},
   "outputs": [],
   "source": [
    "def plot_results(trace, beta_true, ax=False, xlim = None):\n",
    "    \n",
    "    if ax is False:\n",
    "        f, ax = plt.subplots(figsize=(7,10))\n",
    "    ys = np.arange(beta_true.shape[0])\n",
    "    xs_true = beta_true\n",
    "    \n",
    "    xs_pred_mean = trace.mean(axis=0)\n",
    "    xs_pred_low, xs_pred_high = np.percentile(trace, q=[2.5, 97.5], axis=0)\n",
    "    \n",
    "    ax.plot(xs_true, ys, \".r\", ms=10, label='actual')\n",
    "    ax.hlines(ys, xmin=xs_pred_low, xmax=xs_pred_high, zorder=-1)\n",
    "    ax.scatter(xs_pred_mean, ys, facecolors='lightblue', edgecolors='k', s=80, label='estimate')\n",
    "    ax.set_yticks(np.arange(0, len(beta_true) + 1))\n",
    "    ax.axvline(x=0, ls=\":\")\n",
    "    ax.set_ylabel(\"Betas\")\n",
    "    if xlim != None:\n",
    "        ax.set_xlim(xlim)\n",
    "    ax.legend(loc=2)\n",
    "    \n",
    "    ax.grid(True)\n",
    "    plt.tight_layout()\n",
    "\n",
    "    sns.despine(left=True)\n",
    "    return ax"
   ]
  },
  {
   "cell_type": "code",
   "execution_count": 393,
   "metadata": {},
   "outputs": [
    {
     "name": "stderr",
     "output_type": "stream",
     "text": [
      "/Users/sidravi/anaconda3/envs/experiments/lib/python3.7/site-packages/theano/tensor/subtensor.py:2197: FutureWarning: Using a non-tuple sequence for multidimensional indexing is deprecated; use `arr[tuple(seq)]` instead of `arr[seq]`. In the future this will be interpreted as an array index, `arr[np.array(seq)]`, which will result either in an error or a different result.\n",
      "  rval = inputs[0].__getitem__(inputs[1:])\n"
     ]
    }
   ],
   "source": [
    "with pm.Model() as m_sampled:\n",
    "    \n",
    "    betas_rest = pm.Normal('betas', 0, 1, shape=n_params)\n",
    "    V = tt.dot(choice_set_features, betas_rest) \n",
    "    p = tt.nnet.softmax(V)\n",
    "    \n",
    "    pm.Multinomial('ll', n=1, p=p, observed = choice)"
   ]
  },
  {
   "cell_type": "code",
   "execution_count": 394,
   "metadata": {},
   "outputs": [
    {
     "name": "stderr",
     "output_type": "stream",
     "text": [
      "Auto-assigning NUTS sampler...\n",
      "Initializing NUTS using jitter+adapt_diag...\n",
      "Multiprocess sampling (4 chains in 4 jobs)\n",
      "NUTS: [betas]\n",
      "Sampling 4 chains: 100%|██████████| 6000/6000 [00:07<00:00, 830.49draws/s]\n"
     ]
    }
   ],
   "source": [
    "trace = pm.sample(model=m_sampled, tune=1000)"
   ]
  },
  {
   "cell_type": "code",
   "execution_count": 395,
   "metadata": {},
   "outputs": [
    {
     "name": "stderr",
     "output_type": "stream",
     "text": [
      "/Users/sidravi/anaconda3/envs/experiments/lib/python3.7/site-packages/pymc3/stats.py:991: FutureWarning: The join_axes-keyword is deprecated. Use .reindex or .reindex_like on the result to achieve the same functionality.\n",
      "  axis=1, join_axes=[dforg.index])\n"
     ]
    },
    {
     "data": {
      "text/html": [
       "<div>\n",
       "<style scoped>\n",
       "    .dataframe tbody tr th:only-of-type {\n",
       "        vertical-align: middle;\n",
       "    }\n",
       "\n",
       "    .dataframe tbody tr th {\n",
       "        vertical-align: top;\n",
       "    }\n",
       "\n",
       "    .dataframe thead th {\n",
       "        text-align: right;\n",
       "    }\n",
       "</style>\n",
       "<table border=\"1\" class=\"dataframe\">\n",
       "  <thead>\n",
       "    <tr style=\"text-align: right;\">\n",
       "      <th></th>\n",
       "      <th>mean</th>\n",
       "      <th>sd</th>\n",
       "      <th>mc_error</th>\n",
       "      <th>hpd_2.5</th>\n",
       "      <th>hpd_97.5</th>\n",
       "      <th>n_eff</th>\n",
       "      <th>Rhat</th>\n",
       "    </tr>\n",
       "  </thead>\n",
       "  <tbody>\n",
       "    <tr>\n",
       "      <td>betas__0</td>\n",
       "      <td>-0.208898</td>\n",
       "      <td>0.287584</td>\n",
       "      <td>0.006138</td>\n",
       "      <td>-0.753614</td>\n",
       "      <td>0.371185</td>\n",
       "      <td>2290.139756</td>\n",
       "      <td>0.999630</td>\n",
       "    </tr>\n",
       "    <tr>\n",
       "      <td>betas__1</td>\n",
       "      <td>-1.623565</td>\n",
       "      <td>0.154082</td>\n",
       "      <td>0.004015</td>\n",
       "      <td>-1.916060</td>\n",
       "      <td>-1.326226</td>\n",
       "      <td>1458.137605</td>\n",
       "      <td>1.001837</td>\n",
       "    </tr>\n",
       "    <tr>\n",
       "      <td>betas__2</td>\n",
       "      <td>-2.189662</td>\n",
       "      <td>0.249639</td>\n",
       "      <td>0.006064</td>\n",
       "      <td>-2.657234</td>\n",
       "      <td>-1.711977</td>\n",
       "      <td>1714.230399</td>\n",
       "      <td>1.000148</td>\n",
       "    </tr>\n",
       "    <tr>\n",
       "      <td>betas__3</td>\n",
       "      <td>-0.745552</td>\n",
       "      <td>0.212170</td>\n",
       "      <td>0.005452</td>\n",
       "      <td>-1.144861</td>\n",
       "      <td>-0.336415</td>\n",
       "      <td>1714.071931</td>\n",
       "      <td>1.002022</td>\n",
       "    </tr>\n",
       "    <tr>\n",
       "      <td>betas__4</td>\n",
       "      <td>1.599283</td>\n",
       "      <td>0.154445</td>\n",
       "      <td>0.003794</td>\n",
       "      <td>1.323121</td>\n",
       "      <td>1.926336</td>\n",
       "      <td>1814.459322</td>\n",
       "      <td>1.001321</td>\n",
       "    </tr>\n",
       "    <tr>\n",
       "      <td>betas__5</td>\n",
       "      <td>2.321646</td>\n",
       "      <td>0.154059</td>\n",
       "      <td>0.003836</td>\n",
       "      <td>2.050019</td>\n",
       "      <td>2.651339</td>\n",
       "      <td>1494.454492</td>\n",
       "      <td>1.001835</td>\n",
       "    </tr>\n",
       "    <tr>\n",
       "      <td>betas__6</td>\n",
       "      <td>3.523610</td>\n",
       "      <td>0.180668</td>\n",
       "      <td>0.004337</td>\n",
       "      <td>3.172816</td>\n",
       "      <td>3.869370</td>\n",
       "      <td>1733.352564</td>\n",
       "      <td>1.001102</td>\n",
       "    </tr>\n",
       "  </tbody>\n",
       "</table>\n",
       "</div>"
      ],
      "text/plain": [
       "              mean        sd  mc_error   hpd_2.5  hpd_97.5        n_eff  \\\n",
       "betas__0 -0.208898  0.287584  0.006138 -0.753614  0.371185  2290.139756   \n",
       "betas__1 -1.623565  0.154082  0.004015 -1.916060 -1.326226  1458.137605   \n",
       "betas__2 -2.189662  0.249639  0.006064 -2.657234 -1.711977  1714.230399   \n",
       "betas__3 -0.745552  0.212170  0.005452 -1.144861 -0.336415  1714.071931   \n",
       "betas__4  1.599283  0.154445  0.003794  1.323121  1.926336  1814.459322   \n",
       "betas__5  2.321646  0.154059  0.003836  2.050019  2.651339  1494.454492   \n",
       "betas__6  3.523610  0.180668  0.004337  3.172816  3.869370  1733.352564   \n",
       "\n",
       "              Rhat  \n",
       "betas__0  0.999630  \n",
       "betas__1  1.001837  \n",
       "betas__2  1.000148  \n",
       "betas__3  1.002022  \n",
       "betas__4  1.001321  \n",
       "betas__5  1.001835  \n",
       "betas__6  1.001102  "
      ]
     },
     "execution_count": 395,
     "metadata": {},
     "output_type": "execute_result"
    }
   ],
   "source": [
    "pm.summary(trace)"
   ]
  },
  {
   "cell_type": "code",
   "execution_count": 454,
   "metadata": {},
   "outputs": [
    {
     "data": {
      "image/png": "[encoded data removed]",
      "text/plain": [
       "<Figure size 360x504 with 1 Axes>"
      ]
     },
     "metadata": {
      "needs_background": "light"
     },
     "output_type": "display_data"
    },
    {
     "name": "stderr",
     "output_type": "stream",
     "text": [
      "distributed.nanny - WARNING - Restarting worker\n",
      "distributed.nanny - WARNING - Restarting worker\n",
      "distributed.nanny - WARNING - Restarting worker\n",
      "distributed.nanny - WARNING - Restarting worker\n"
     ]
    }
   ],
   "source": [
    "scaled_trace = trace['betas'].squeeze()\n",
    "scaled_trace = scaled_trace / scaled_trace[:, 6].reshape(-1, 1)\n",
    "f, ax = plt.subplots(figsize=(5, 7))\n",
    "ax = plot_results(scaled_trace, beta_trues/beta_trues[6], ax=ax)"
   ]
  },
  {
   "cell_type": "code",
   "execution_count": 397,
   "metadata": {},
   "outputs": [],
   "source": [
    "with pm.Model() as m_sampled_reweighted:\n",
    "    \n",
    "    betas_rest = pm.Normal('betas', 0, 3, shape=n_params)\n",
    "    V = tt.dot(choice_set_features, betas_rest) + ln_qKi_matrix\n",
    "    p = tt.nnet.softmax(V)\n",
    "    \n",
    "    pm.Multinomial('ll', n=1, p=p, observed = choice)"
   ]
  },
  {
   "cell_type": "code",
   "execution_count": 398,
   "metadata": {},
   "outputs": [
    {
     "name": "stderr",
     "output_type": "stream",
     "text": [
      "Auto-assigning NUTS sampler...\n",
      "Initializing NUTS using jitter+adapt_diag...\n",
      "Multiprocess sampling (4 chains in 4 jobs)\n",
      "NUTS: [betas]\n",
      "Sampling 4 chains: 100%|██████████| 6000/6000 [00:09<00:00, 648.66draws/s]\n"
     ]
    }
   ],
   "source": [
    "trace_weighted = pm.sample(model=m_sampled_reweighted, tune = 1000)"
   ]
  },
  {
   "cell_type": "code",
   "execution_count": 405,
   "metadata": {},
   "outputs": [
    {
     "name": "stderr",
     "output_type": "stream",
     "text": [
      "/Users/sidravi/anaconda3/envs/experiments/lib/python3.7/site-packages/pymc3/stats.py:991: FutureWarning: The join_axes-keyword is deprecated. Use .reindex or .reindex_like on the result to achieve the same functionality.\n",
      "  axis=1, join_axes=[dforg.index])\n"
     ]
    },
    {
     "data": {
      "text/html": [
       "<div>\n",
       "<style scoped>\n",
       "    .dataframe tbody tr th:only-of-type {\n",
       "        vertical-align: middle;\n",
       "    }\n",
       "\n",
       "    .dataframe tbody tr th {\n",
       "        vertical-align: top;\n",
       "    }\n",
       "\n",
       "    .dataframe thead th {\n",
       "        text-align: right;\n",
       "    }\n",
       "</style>\n",
       "<table border=\"1\" class=\"dataframe\">\n",
       "  <thead>\n",
       "    <tr style=\"text-align: right;\">\n",
       "      <th></th>\n",
       "      <th>mean</th>\n",
       "      <th>sd</th>\n",
       "      <th>mc_error</th>\n",
       "      <th>hpd_2.5</th>\n",
       "      <th>hpd_97.5</th>\n",
       "      <th>n_eff</th>\n",
       "      <th>Rhat</th>\n",
       "    </tr>\n",
       "  </thead>\n",
       "  <tbody>\n",
       "    <tr>\n",
       "      <td>betas__0</td>\n",
       "      <td>-2.742069</td>\n",
       "      <td>0.676398</td>\n",
       "      <td>0.022862</td>\n",
       "      <td>-4.008849</td>\n",
       "      <td>-1.358905</td>\n",
       "      <td>776.431438</td>\n",
       "      <td>1.000177</td>\n",
       "    </tr>\n",
       "    <tr>\n",
       "      <td>betas__1</td>\n",
       "      <td>-0.090493</td>\n",
       "      <td>0.481142</td>\n",
       "      <td>0.018686</td>\n",
       "      <td>-1.041471</td>\n",
       "      <td>0.821605</td>\n",
       "      <td>533.409645</td>\n",
       "      <td>1.002408</td>\n",
       "    </tr>\n",
       "    <tr>\n",
       "      <td>betas__2</td>\n",
       "      <td>-3.915034</td>\n",
       "      <td>0.660634</td>\n",
       "      <td>0.014861</td>\n",
       "      <td>-5.263927</td>\n",
       "      <td>-2.655540</td>\n",
       "      <td>2071.603273</td>\n",
       "      <td>0.999461</td>\n",
       "    </tr>\n",
       "    <tr>\n",
       "      <td>betas__3</td>\n",
       "      <td>-2.874134</td>\n",
       "      <td>0.523170</td>\n",
       "      <td>0.011586</td>\n",
       "      <td>-3.910821</td>\n",
       "      <td>-1.855000</td>\n",
       "      <td>1614.724560</td>\n",
       "      <td>0.999807</td>\n",
       "    </tr>\n",
       "    <tr>\n",
       "      <td>betas__4</td>\n",
       "      <td>-0.118848</td>\n",
       "      <td>0.371304</td>\n",
       "      <td>0.013677</td>\n",
       "      <td>-0.825895</td>\n",
       "      <td>0.601821</td>\n",
       "      <td>599.859685</td>\n",
       "      <td>1.002042</td>\n",
       "    </tr>\n",
       "    <tr>\n",
       "      <td>betas__5</td>\n",
       "      <td>1.431561</td>\n",
       "      <td>0.450185</td>\n",
       "      <td>0.017340</td>\n",
       "      <td>0.607397</td>\n",
       "      <td>2.302195</td>\n",
       "      <td>553.442880</td>\n",
       "      <td>1.002533</td>\n",
       "    </tr>\n",
       "    <tr>\n",
       "      <td>betas__6</td>\n",
       "      <td>2.318829</td>\n",
       "      <td>0.314854</td>\n",
       "      <td>0.009962</td>\n",
       "      <td>1.727227</td>\n",
       "      <td>2.964246</td>\n",
       "      <td>860.158141</td>\n",
       "      <td>1.002235</td>\n",
       "    </tr>\n",
       "  </tbody>\n",
       "</table>\n",
       "</div>"
      ],
      "text/plain": [
       "              mean        sd  mc_error   hpd_2.5  hpd_97.5        n_eff  \\\n",
       "betas__0 -2.742069  0.676398  0.022862 -4.008849 -1.358905   776.431438   \n",
       "betas__1 -0.090493  0.481142  0.018686 -1.041471  0.821605   533.409645   \n",
       "betas__2 -3.915034  0.660634  0.014861 -5.263927 -2.655540  2071.603273   \n",
       "betas__3 -2.874134  0.523170  0.011586 -3.910821 -1.855000  1614.724560   \n",
       "betas__4 -0.118848  0.371304  0.013677 -0.825895  0.601821   599.859685   \n",
       "betas__5  1.431561  0.450185  0.017340  0.607397  2.302195   553.442880   \n",
       "betas__6  2.318829  0.314854  0.009962  1.727227  2.964246   860.158141   \n",
       "\n",
       "              Rhat  \n",
       "betas__0  1.000177  \n",
       "betas__1  1.002408  \n",
       "betas__2  0.999461  \n",
       "betas__3  0.999807  \n",
       "betas__4  1.002042  \n",
       "betas__5  1.002533  \n",
       "betas__6  1.002235  "
      ]
     },
     "execution_count": 405,
     "metadata": {},
     "output_type": "execute_result"
    }
   ],
   "source": [
    "pm.summary(trace_weighted) "
   ]
  },
  {
   "cell_type": "code",
   "execution_count": 452,
   "metadata": {},
   "outputs": [
    {
     "data": {
      "image/png": "[encoded data removed]",
      "text/plain": [
       "<Figure size 360x504 with 1 Axes>"
      ]
     },
     "metadata": {
      "needs_background": "light"
     },
     "output_type": "display_data"
    }
   ],
   "source": [
    "scaled_trace = trace_weighted['betas'].squeeze()\n",
    "scaled_trace = scaled_trace / scaled_trace[:, 6].reshape(-1, 1)\n",
    "f, ax = plt.subplots(figsize=(5, 7))\n",
    "ax = plot_results(scaled_trace, beta_trues/beta_trues[6], ax=ax)\n",
    "plt.savefig(\"../../../sidravi1.github.io/assets/20191120_results.png\")"
   ]
  },
  {
   "cell_type": "code",
   "execution_count": null,
   "metadata": {},
   "outputs": [],
   "source": []
  }
 ],
 "metadata": {
  "kernelspec": {
   "display_name": "Python 3",
   "language": "python",
   "name": "python3"
  },
  "language_info": {
   "codemirror_mode": {
    "name": "ipython",
    "version": 3
   },
   "file_extension": ".py",
   "mimetype": "text/x-python",
   "name": "python",
   "nbconvert_exporter": "python",
   "pygments_lexer": "ipython3",
   "version": "3.7.4"
  }
 },
 "nbformat": 4,
 "nbformat_minor": 4
}
