{
 "cells": [
  {
   "cell_type": "code",
   "execution_count": 1,
   "metadata": {
    "collapsed": true
   },
   "outputs": [],
   "source": [
    "%matplotlib inline"
   ]
  },
  {
   "cell_type": "code",
   "execution_count": 2,
   "metadata": {
    "collapsed": true
   },
   "outputs": [],
   "source": [
    "import numpy as np\n",
    "import scipy as sp\n",
    "\n",
    "import pandas as pd\n",
    "import matplotlib.pyplot as plt\n",
    "import seaborn as sns"
   ]
  },
  {
   "cell_type": "code",
   "execution_count": 17,
   "metadata": {
    "collapsed": true
   },
   "outputs": [],
   "source": [
    "np.random.seed(112233)\n",
    "N = 20\n",
    "K = 30\n",
    "\n",
    "alpha = 10\n",
    "P0 = sp.stats.gamma"
   ]
  },
  {
   "cell_type": "code",
   "execution_count": 47,
   "metadata": {},
   "outputs": [
    {
     "data": {
      "image/png": "[encoded data removed]",
      "text/plain": [
       "<matplotlib.figure.Figure at 0x1a21850e80>"
      ]
     },
     "metadata": {},
     "output_type": "display_data"
    }
   ],
   "source": [
    "beta = sp.stats.beta.rvs(1, 10, size=(10000))\n",
    "_ = plt.hist(beta, bins=100)"
   ]
  },
  {
   "cell_type": "code",
   "execution_count": 48,
   "metadata": {
    "collapsed": true
   },
   "outputs": [],
   "source": [
    "beta = sp.stats.beta.rvs(1, alpha, size=(N, K))"
   ]
  },
  {
   "cell_type": "code",
   "execution_count": 5,
   "metadata": {},
   "outputs": [
    {
     "data": {
      "text/plain": [
       "(20, 30)"
      ]
     },
     "execution_count": 5,
     "metadata": {},
     "output_type": "execute_result"
    }
   ],
   "source": [
    "np.shape(beta)"
   ]
  },
  {
   "cell_type": "code",
   "execution_count": 49,
   "metadata": {},
   "outputs": [
    {
     "data": {
      "image/png": "[encoded data removed]",
      "text/plain": [
       "<matplotlib.figure.Figure at 0x1a2187a080>"
      ]
     },
     "metadata": {},
     "output_type": "display_data"
    }
   ],
   "source": [
    "_ = plt.hist(beta, density=True)"
   ]
  },
  {
   "cell_type": "code",
   "execution_count": 50,
   "metadata": {},
   "outputs": [
    {
     "data": {
      "text/plain": [
       "array([[ 0.99787546,  0.82440401,  0.99895716,  0.98878933,  0.94572926,\n",
       "         0.99272408,  0.84880641,  0.84314886,  0.81799058,  0.880472  ,\n",
       "         0.87100564,  0.71912079,  0.89072447,  0.99791434,  0.85681062,\n",
       "         0.8953651 ,  0.98467018,  0.93870237,  0.91956853,  0.91826512,\n",
       "         0.99146193,  0.98702399,  0.77774621,  0.97019354,  0.96818686,\n",
       "         0.9982987 ,  0.87485576,  0.97730061,  0.91341134],\n",
       "       [ 0.8962032 ,  0.98922002,  0.87604933,  0.8568205 ,  0.8513512 ,\n",
       "         0.96297625,  0.78931925,  0.97671246,  0.95115269,  0.98996917,\n",
       "         0.97688453,  0.97600436,  0.99621777,  0.91527698,  0.87738399,\n",
       "         0.9942261 ,  0.94752532,  0.9529102 ,  0.94026693,  0.97715087,\n",
       "         0.91334362,  0.99581354,  0.79150124,  0.99026613,  0.97125152,\n",
       "         0.9511589 ,  0.91644676,  0.92029916,  0.93620622],\n",
       "       [ 0.85716599,  0.9439208 ,  0.89879189,  0.91103022,  0.95877789,\n",
       "         0.90261893,  0.9381274 ,  0.95553186,  0.98259902,  0.98493195,\n",
       "         0.97788871,  0.79151143,  0.90431218,  0.80879456,  0.99032791,\n",
       "         0.97384275,  0.98092126,  0.91836003,  0.90243327,  0.95004763,\n",
       "         0.98426805,  0.98144137,  0.9011647 ,  0.97675771,  0.6736125 ,\n",
       "         0.99907042,  0.92361098,  0.8953097 ,  0.96549725],\n",
       "       [ 0.96662255,  0.83164713,  0.95771598,  0.83786434,  0.99874967,\n",
       "         0.98641642,  0.98910641,  0.98210873,  0.91685927,  0.88626002,\n",
       "         0.94312177,  0.96143027,  0.83022601,  0.99145693,  0.9674084 ,\n",
       "         0.9558778 ,  0.96067297,  0.96837306,  0.92555472,  0.90676652,\n",
       "         0.93868252,  0.64413104,  0.8661487 ,  0.8571633 ,  0.88204477,\n",
       "         0.98035736,  0.91614424,  0.9456094 ,  0.95005272],\n",
       "       [ 0.98491008,  0.78971445,  0.99469987,  0.78996904,  0.97179405,\n",
       "         0.95396004,  0.91926154,  0.98733834,  0.99364319,  0.98879039,\n",
       "         0.8668401 ,  0.7844688 ,  0.82379686,  0.94052216,  0.90825047,\n",
       "         0.88873045,  0.88308676,  0.65055404,  0.94740307,  0.86693329,\n",
       "         0.895782  ,  0.98819388,  0.86538908,  0.95953738,  0.98624279,\n",
       "         0.88046257,  0.98197595,  0.97831086,  0.91848828],\n",
       "       [ 0.91311   ,  0.73436753,  0.97949638,  0.8674197 ,  0.9760158 ,\n",
       "         0.99224309,  0.97416455,  0.85269754,  0.84835019,  0.8017023 ,\n",
       "         0.9174485 ,  0.97495973,  0.97177191,  0.82842301,  0.90173284,\n",
       "         0.99231103,  0.97015032,  0.93242358,  0.82936595,  0.87687903,\n",
       "         0.91242061,  0.74861995,  0.93715504,  0.93009222,  0.85091454,\n",
       "         0.94679126,  0.96278975,  0.91650125,  0.92126743],\n",
       "       [ 0.86360267,  0.96620524,  0.94093824,  0.8569702 ,  0.98932281,\n",
       "         0.97173882,  0.9436687 ,  0.89932038,  0.98046886,  0.94363401,\n",
       "         0.99098448,  0.99566549,  0.9979336 ,  0.8036158 ,  0.84016734,\n",
       "         0.99628526,  0.98292742,  0.9036654 ,  0.95464416,  0.93816371,\n",
       "         0.86310645,  0.87476988,  0.99940381,  0.95064992,  0.92848885,\n",
       "         0.81323183,  0.9226278 ,  0.90193564,  0.93974734],\n",
       "       [ 0.88376776,  0.99979312,  0.98916407,  0.86930615,  0.92431218,\n",
       "         0.9934685 ,  0.94743873,  0.98584436,  0.99365529,  0.9726027 ,\n",
       "         0.82831282,  0.90629774,  0.92772312,  0.97090075,  0.99228654,\n",
       "         0.73089397,  0.99323441,  0.96887971,  0.99785451,  0.99674442,\n",
       "         0.82488628,  0.96668895,  0.73099319,  0.99748014,  0.91267462,\n",
       "         0.83350722,  0.98391572,  0.92333291,  0.96860119],\n",
       "       [ 0.77315549,  0.99862518,  0.71743408,  0.87681697,  0.8282055 ,\n",
       "         0.99524203,  0.81384353,  0.96965749,  0.99800438,  0.95460185,\n",
       "         0.94920494,  0.85779559,  0.69906716,  0.754796  ,  0.87746859,\n",
       "         0.91423139,  0.97902079,  0.99408681,  0.85961369,  0.85105544,\n",
       "         0.88116749,  0.98760365,  0.93151932,  0.99483202,  0.95349557,\n",
       "         0.78870978,  0.96120216,  0.99474888,  0.97785271],\n",
       "       [ 0.98872549,  0.84382166,  0.8024806 ,  0.98844608,  0.93604537,\n",
       "         0.69411932,  0.94602358,  0.93139748,  0.96329198,  0.96092367,\n",
       "         0.91119916,  0.93476412,  0.83529978,  0.99674773,  0.95348308,\n",
       "         0.93358203,  0.99763012,  0.9051787 ,  0.90896263,  0.91948015,\n",
       "         0.84179299,  0.89694391,  0.9698917 ,  0.96580072,  0.6794    ,\n",
       "         0.9709617 ,  0.83099222,  0.97074594,  0.93786269],\n",
       "       [ 0.83794412,  0.90250777,  0.99706542,  0.96864641,  0.96782153,\n",
       "         0.92887158,  0.9488854 ,  0.84214239,  0.99423889,  0.96577343,\n",
       "         0.62570896,  0.75652582,  0.86604384,  0.91454238,  0.98298324,\n",
       "         0.98593883,  0.94180065,  0.82811826,  0.98423325,  0.9109626 ,\n",
       "         0.9994272 ,  0.86527857,  0.96427948,  0.94376124,  0.85525378,\n",
       "         0.8305112 ,  0.92421408,  0.98184825,  0.99177747],\n",
       "       [ 0.96449545,  0.79963325,  0.95192184,  0.96821772,  0.90917013,\n",
       "         0.99996004,  0.63099782,  0.86220136,  0.99090068,  0.98317887,\n",
       "         0.90232253,  0.9408066 ,  0.84984801,  0.83982756,  0.85956784,\n",
       "         0.81272011,  0.94785545,  0.91700212,  0.79728586,  0.91795273,\n",
       "         0.92468113,  0.91630983,  0.94433128,  0.85085785,  0.99922504,\n",
       "         0.98754985,  0.87101835,  0.82851413,  0.93116048],\n",
       "       [ 0.89998043,  0.92753247,  0.86637656,  0.92567981,  0.90938222,\n",
       "         0.92955533,  0.95501458,  0.9890573 ,  0.93905485,  0.98338448,\n",
       "         0.97219832,  0.90857161,  0.9507089 ,  0.91110769,  0.9613874 ,\n",
       "         0.96735981,  0.99446473,  0.97624717,  0.80248311,  0.98895372,\n",
       "         0.98699525,  0.95725512,  0.85606418,  0.94158639,  0.79987491,\n",
       "         0.82890571,  0.97458652,  0.96502952,  0.95462911],\n",
       "       [ 0.82526832,  0.88688362,  0.91927038,  0.96233391,  0.89323028,\n",
       "         0.89469278,  0.89087815,  0.92196737,  0.9594479 ,  0.9730971 ,\n",
       "         0.94766892,  0.99786713,  0.814049  ,  0.87998362,  0.98148561,\n",
       "         0.85040374,  0.94981501,  0.82429076,  0.82359388,  0.88425272,\n",
       "         0.94306431,  0.92636182,  0.81918091,  0.85141023,  0.97867233,\n",
       "         0.91939527,  0.95222719,  0.73472806,  0.93660967],\n",
       "       [ 0.96188247,  0.95358519,  0.94860007,  0.77188011,  0.94260975,\n",
       "         0.88554607,  0.96839257,  0.93166625,  0.91305684,  0.89361388,\n",
       "         0.94371961,  0.93318233,  0.9560622 ,  0.79451959,  0.9784073 ,\n",
       "         0.90765419,  0.98245307,  0.90962645,  0.85944709,  0.81489899,\n",
       "         0.87410301,  0.97941521,  0.97376854,  0.97765347,  0.9399152 ,\n",
       "         0.90839254,  0.97666661,  0.94339489,  0.91243756],\n",
       "       [ 0.88096341,  0.90211392,  0.92253057,  0.92159307,  0.93120653,\n",
       "         0.93632356,  0.82195448,  0.77546079,  0.83232999,  0.83122222,\n",
       "         0.91942765,  0.99960185,  0.99400352,  0.84025275,  0.87670706,\n",
       "         0.75264774,  0.89280008,  0.99095713,  0.99350107,  0.95231119,\n",
       "         0.8717499 ,  0.99629721,  0.98218506,  0.99966347,  0.95894389,\n",
       "         0.97173435,  0.99703989,  0.94885315,  0.99488958],\n",
       "       [ 0.96655238,  0.80439823,  0.98162325,  0.96285053,  0.79314843,\n",
       "         0.95788828,  0.97049643,  0.99380236,  0.75245121,  0.93299428,\n",
       "         0.96369152,  0.96151594,  0.96445445,  0.98070658,  0.95494599,\n",
       "         0.92737832,  0.84520052,  0.89697809,  0.97351313,  0.92032976,\n",
       "         0.99809741,  0.97118105,  0.88618045,  0.63426188,  0.68236567,\n",
       "         0.97526763,  0.96299626,  0.77070562,  0.94974912],\n",
       "       [ 0.89158905,  0.7505574 ,  0.91257111,  0.95899287,  0.90544549,\n",
       "         0.79989481,  0.94413422,  0.95140217,  0.99120176,  0.97954477,\n",
       "         0.90127854,  0.98233231,  0.82023011,  0.96196961,  0.89320513,\n",
       "         0.61882639,  0.99390291,  0.87536635,  0.80245858,  0.91546803,\n",
       "         0.8618399 ,  0.87384064,  0.9440616 ,  0.980779  ,  0.90869207,\n",
       "         0.95492291,  0.84760198,  0.91535323,  0.82269292],\n",
       "       [ 0.84466848,  0.99163125,  0.93826516,  0.98946013,  0.88688033,\n",
       "         0.81778296,  0.88100956,  0.98030757,  0.97518468,  0.99347523,\n",
       "         0.62334212,  0.88415495,  0.96642171,  0.95801928,  0.98104616,\n",
       "         0.85424353,  0.94538635,  0.93204276,  0.8118366 ,  0.9633044 ,\n",
       "         0.9515718 ,  0.8884624 ,  0.9876135 ,  0.98385122,  0.96883443,\n",
       "         0.9979963 ,  0.96053507,  0.96154934,  0.97460415],\n",
       "       [ 0.97717334,  0.97701523,  0.83338347,  0.9907055 ,  0.99136672,\n",
       "         0.93900353,  0.94152249,  0.9595074 ,  0.98204864,  0.66204547,\n",
       "         0.87462871,  0.93948969,  0.90997935,  0.98572032,  0.76855639,\n",
       "         0.97996909,  0.96171258,  0.93079811,  0.87722173,  0.9901181 ,\n",
       "         0.95877097,  0.96909957,  0.876863  ,  0.94696267,  0.9562354 ,\n",
       "         0.99489072,  0.9849977 ,  0.97728601,  0.88944148]])"
      ]
     },
     "execution_count": 50,
     "metadata": {},
     "output_type": "execute_result"
    }
   ],
   "source": [
    "(1 - beta[:, :-1])#.cumprod(axis=1)"
   ]
  },
  {
   "cell_type": "code",
   "execution_count": 51,
   "metadata": {},
   "outputs": [
    {
     "data": {
      "text/plain": [
       "array([[  1.75222926e-01,   8.57894048e-04,   9.21286489e-03,\n",
       "          4.40994129e-02,   5.59141577e-03,   1.15344217e-01,\n",
       "          1.01568439e-01,   9.93731889e-02,   5.33818161e-02,\n",
       "          5.07235867e-02,   9.62010435e-02,   2.69144168e-02,\n",
       "          4.57560953e-04,   3.13479756e-02,   1.96272788e-02,\n",
       "          2.57466449e-03,   1.01372029e-02,   1.24861459e-02,\n",
       "          1.16679323e-02,   1.11921657e-03,   1.68644366e-03,\n",
       "          2.85106747e-02,   2.97376514e-03,   3.07936458e-03,\n",
       "          1.59439475e-04,   1.17080659e-02,   1.85791089e-03,\n",
       "          6.92627844e-03,   1.42664924e-03],\n",
       "       [  9.66105005e-03,   1.09887498e-01,   1.11201024e-01,\n",
       "          9.89188808e-02,   2.09752425e-02,   1.14938886e-01,\n",
       "          1.00280964e-02,   2.05448117e-02,   4.01280995e-03,\n",
       "          9.15453175e-03,   9.28344248e-03,   1.42815715e-03,\n",
       "          3.18701537e-02,   4.22165223e-02,   1.74419095e-03,\n",
       "          1.57601369e-02,   1.34007107e-02,   1.61982381e-02,\n",
       "          5.82604407e-03,   2.15906785e-02,   9.52679100e-04,\n",
       "          4.72477826e-02,   1.74588261e-03,   5.10618242e-03,\n",
       "          8.42555649e-03,   1.37097505e-02,   1.19849554e-02,\n",
       "          8.82837725e-03,   2.40026948e-03],\n",
       "       [  4.80691807e-02,   8.18871564e-02,   6.46996808e-02,\n",
       "          2.73100588e-02,   6.18564464e-02,   3.54742540e-02,\n",
       "          2.39180463e-02,   8.94325416e-03,   7.60948404e-03,\n",
       "          1.09981213e-02,   1.01408907e-01,   3.68389877e-02,\n",
       "          6.65686361e-02,   2.72350274e-03,   7.29421818e-03,\n",
       "          5.18113707e-03,   2.17476565e-02,   2.38684586e-02,\n",
       "          1.10279255e-02,   3.29963240e-03,   3.83126656e-03,\n",
       "          2.00250181e-02,   4.24369318e-03,   5.82083607e-02,\n",
       "          1.11672554e-04,   9.16830463e-03,   1.16052273e-02,\n",
       "          3.42431865e-03,   8.18980060e-03],\n",
       "       [  1.62733682e-01,   3.39916520e-02,   1.24827791e-01,\n",
       "          8.06549759e-04,   8.75139659e-03,   6.92300073e-03,\n",
       "          1.12462438e-02,   5.13262818e-02,   6.43786437e-02,\n",
       "          2.85322411e-02,   1.82475333e-02,   7.72229769e-02,\n",
       "          3.22615718e-03,   1.22025672e-02,   1.59813178e-02,\n",
       "          1.36159824e-02,   1.05193900e-02,   2.39780156e-02,\n",
       "          2.77939369e-02,   1.65751693e-02,   9.02989080e-02,\n",
       "          2.18770720e-02,   2.02208255e-02,   1.43133025e-02,\n",
       "          2.10238935e-03,   8.79894503e-03,   5.22859963e-03,\n",
       "          4.54030624e-03,   1.21471454e-02],\n",
       "       [  2.07112352e-01,   4.12242625e-03,   1.62495767e-01,\n",
       "          1.72389017e-02,   2.73450038e-02,   4.57460600e-02,\n",
       "          6.59481792e-03,   3.26901818e-03,   5.72794845e-03,\n",
       "          6.72800772e-02,   9.43978608e-02,   6.05398471e-02,\n",
       "          1.68346070e-02,   2.44242201e-02,   2.69028823e-02,\n",
       "          2.51221175e-02,   6.63095265e-02,   6.49291400e-03,\n",
       "          1.55626475e-02,   1.05667757e-02,   1.07228256e-03,\n",
       "          1.20816021e-02,   3.14274882e-03,   1.02529278e-03,\n",
       "          8.78628549e-03,   1.16644611e-03,   1.37833688e-03,\n",
       "          5.06769043e-03,   3.18854421e-03],\n",
       "       [  2.42551665e-01,   1.37488724e-02,   8.70799949e-02,\n",
       "          1.36645059e-02,   4.31334578e-03,   1.42547518e-02,\n",
       "          7.91746101e-02,   6.95044815e-02,   7.71016676e-02,\n",
       "          2.57326307e-02,   7.16110195e-03,   7.87062328e-03,\n",
       "          4.64890853e-02,   2.20573089e-02,   1.55628790e-03,\n",
       "          5.99528101e-03,   1.31675212e-02,   3.10018620e-02,\n",
       "          1.85524092e-02,   1.15720385e-02,   3.03063668e-02,\n",
       "          5.67198287e-03,   5.91291169e-03,   1.17283580e-02,\n",
       "          3.56181049e-03,   2.35833082e-03,   5.09510967e-03,\n",
       "          4.40312511e-03,   9.66050192e-03],\n",
       "       [  2.91852466e-02,   4.92821645e-02,   1.12297740e-01,\n",
       "          7.18401502e-03,   1.88121505e-02,   3.64374132e-02,\n",
       "          6.14552361e-02,   1.07215922e-02,   3.03377049e-02,\n",
       "          4.57888861e-03,   2.18160335e-03,   1.03553225e-03,\n",
       "          9.82104399e-02,   6.42340207e-02,   1.25427693e-03,\n",
       "          5.74312422e-03,   3.18531831e-02,   1.35522506e-02,\n",
       "          1.76385582e-02,   3.66337442e-02,   2.89248733e-02,\n",
       "          1.20460110e-04,   9.96518577e-03,   1.37275129e-02,\n",
       "          3.32887650e-02,   1.12148670e-02,   1.31143541e-02,\n",
       "          7.26754154e-03,   2.16014189e-02],\n",
       "       [  1.82830943e-04,   9.57446741e-03,   1.14227796e-01,\n",
       "          5.75062914e-02,   4.58691494e-03,   3.66714410e-02,\n",
       "          9.35713185e-03,   4.13460245e-03,   1.77404740e-02,\n",
       "          1.08126147e-01,   4.88806905e-02,   3.41709881e-02,\n",
       "          1.27631643e-02,   3.28473656e-03,   1.13713465e-01,\n",
       "          2.08952884e-03,   9.54636894e-03,   6.37661471e-04,\n",
       "          9.65516223e-04,   5.17649358e-02,   8.12265376e-03,\n",
       "          6.34102719e-02,   4.34195779e-04,   1.50090924e-02,\n",
       "          2.61171214e-02,   2.10300784e-03,   9.86293398e-03,\n",
       "          3.72965489e-03,   6.35063278e-03],\n",
       "       [  1.06294984e-03,   2.18167038e-01,   6.82342215e-02,\n",
       "          8.34390908e-02,   1.91390291e-03,   7.45255618e-02,\n",
       "          9.88597568e-03,   6.30468777e-04,   1.43138673e-02,\n",
       "          1.52884187e-02,   4.06269452e-02,   7.37487222e-02,\n",
       "          4.20079397e-02,   1.58445838e-02,   9.73180433e-03,\n",
       "          2.17625771e-03,   6.00530734e-04,   1.41730109e-02,\n",
       "          1.29260343e-02,   8.77675138e-03,   8.06771678e-04,\n",
       "          4.40157161e-03,   3.09423034e-04,   2.76997355e-03,\n",
       "          1.19999479e-02,   1.73789969e-03,   2.26091299e-04,\n",
       "          9.48562696e-04,   8.05182575e-03],\n",
       "       [  1.54417509e-01,   1.64792014e-01,   7.73553289e-03,\n",
       "          4.23239215e-02,   1.89479780e-01,   2.32086045e-02,\n",
       "          2.79053198e-02,   1.39073049e-02,   1.42611222e-02,\n",
       "          3.11419556e-02,   2.08462830e-02,   4.91969675e-02,\n",
       "          8.11471265e-04,   1.15686506e-02,   1.57496294e-02,\n",
       "          5.24643073e-04,   2.09417374e-02,   1.81995579e-02,\n",
       "          1.46315427e-02,   2.64335355e-02,   1.44946750e-02,\n",
       "          3.79827480e-03,   4.18446902e-03,   3.78856199e-02,\n",
       "          2.33135053e-03,   1.31748357e-02,   1.89505410e-03,\n",
       "          3.90745055e-03,   2.51776107e-03],\n",
       "       [  8.16930447e-02,   2.21928027e-03,   2.36416033e-02,\n",
       "          2.35028414e-02,   5.02797779e-02,   3.35622356e-02,\n",
       "          9.83524494e-02,   3.02281093e-03,   1.78549758e-02,\n",
       "          1.88573476e-01,   7.67531945e-02,   3.19469930e-02,\n",
       "          1.76505387e-02,   3.21431137e-03,   2.61082952e-03,\n",
       "          1.06543086e-02,   2.96343802e-02,   2.25112975e-03,\n",
       "          1.25120639e-02,   7.33257553e-05,   1.72363331e-02,\n",
       "          3.95441182e-03,   6.00347622e-03,   1.45826493e-02,\n",
       "          1.46037780e-02,   5.42323298e-03,   1.20049624e-03,\n",
       "          5.33939915e-04,   2.09365129e-02],\n",
       "       [  1.93252822e-01,   3.70799235e-02,   2.33333612e-02,\n",
       "          6.45645354e-02,   2.58240009e-05,   2.38463592e-01,\n",
       "          5.61908939e-02,   3.19917934e-03,   5.86023638e-03,\n",
       "          3.34569825e-02,   1.82947899e-02,   4.36601898e-02,\n",
       "          3.95807110e-02,   2.91442239e-02,   3.34085194e-02,\n",
       "          7.55989873e-03,   1.14055496e-02,   2.55448630e-02,\n",
       "          8.24323546e-03,   6.94636631e-03,   7.13707650e-03,\n",
       "          4.35010240e-03,   1.10055827e-02,   4.86571161e-05,\n",
       "          7.81101842e-04,   7.99134526e-03,   9.25438626e-03,\n",
       "          3.07791805e-03,   6.88441015e-04],\n",
       "       [  6.52193593e-02,   1.11543650e-01,   5.37496569e-02,\n",
       "          6.06656828e-02,   4.28868648e-02,   2.54579358e-02,\n",
       "          5.91406210e-03,   3.25778155e-02,   8.34041866e-03,\n",
       "          1.37236054e-02,   4.38766107e-02,   2.14921421e-02,\n",
       "          3.68487618e-02,   1.45833543e-02,   1.18516695e-02,\n",
       "          1.94425747e-03,   8.29697352e-03,   6.73547641e-02,\n",
       "          3.02284676e-03,   3.51947478e-03,   1.14176074e-02,\n",
       "          3.68033708e-02,   1.27861288e-02,   4.12464659e-02,\n",
       "          2.82060827e-02,   3.47277365e-03,   4.65730210e-03,\n",
       "          5.83110293e-03,   7.50074748e-03],\n",
       "       [  9.33513655e-02,   5.90873750e-02,   2.53428610e-02,\n",
       "          6.91319737e-02,   6.09049283e-02,   5.64650790e-02,\n",
       "          3.59718525e-02,   1.72351646e-02,   1.09704016e-02,\n",
       "          2.07653557e-02,   8.02048019e-04,   6.97762373e-02,\n",
       "          3.66606447e-02,   4.97672450e-03,   3.94674294e-02,\n",
       "          1.12594485e-02,   3.74435375e-02,   3.09867742e-02,\n",
       "          1.67450566e-02,   7.28344463e-03,   8.88375561e-03,\n",
       "          2.02077735e-02,   1.36032572e-02,   1.66240303e-03,\n",
       "          6.14880462e-03,   3.35052786e-03,   1.77159452e-02,\n",
       "          3.11044599e-03,   2.51166867e-03],\n",
       "       [  4.46455907e-02,   4.71459081e-02,   1.98485056e-01,\n",
       "          3.85436294e-02,   7.24564660e-02,   1.77193118e-02,\n",
       "          3.70974708e-02,   4.39748964e-02,   4.91306136e-02,\n",
       "          2.32259888e-02,   2.60226446e-02,   1.59685287e-02,\n",
       "          7.13975310e-02,   5.96107107e-03,   2.49433195e-02,\n",
       "          4.30188447e-03,   2.17676037e-02,   3.07944350e-02,\n",
       "          3.48546170e-02,   1.93183785e-02,   2.76098669e-03,\n",
       "          3.44593612e-03,   2.85858211e-03,   7.51432691e-03,\n",
       "          1.07682454e-02,   2.49152615e-03,   5.90322910e-03,\n",
       "          8.61480378e-03,   1.79396657e-02],\n",
       "       [  8.62340570e-02,   6.15672322e-02,   5.74849921e-02,\n",
       "          4.64821774e-02,   4.00648959e-02,   1.04891969e-01,\n",
       "          1.08730437e-01,   6.29613716e-02,   5.27508674e-02,\n",
       "          2.09323262e-02,   9.51038910e-05,   1.43176687e-03,\n",
       "          3.79138060e-02,   2.45873756e-02,   4.32458390e-02,\n",
       "          1.41063511e-02,   1.06238220e-03,   7.56608315e-04,\n",
       "          5.51587152e-03,   1.41264896e-02,   3.55547720e-04,\n",
       "          1.70428262e-03,   3.16213414e-05,   3.85640177e-03,\n",
       "          2.54598951e-03,   2.59091874e-04,   4.46351188e-03,\n",
       "          4.23168131e-04,   1.43510477e-02],\n",
       "       [  1.89059353e-01,   1.42877971e-02,   2.83526663e-02,\n",
       "          1.52005408e-01,   2.45446961e-02,   1.64719135e-02,\n",
       "          3.35807282e-03,   1.33298210e-01,   2.71489936e-02,\n",
       "          1.37255234e-02,   1.40197347e-02,   1.24508964e-02,\n",
       "          6.51787950e-03,   1.49269009e-02,   2.29763613e-02,\n",
       "          4.54194019e-02,   2.55482557e-02,   5.89174761e-03,\n",
       "          1.72524754e-02,   3.79178647e-04,   5.73257606e-03,\n",
       "          2.19881542e-02,   6.26129718e-02,   3.44897559e-02,\n",
       "          1.83250665e-03,   2.67392572e-03,   1.59559138e-02,\n",
       "          2.69501032e-03,   3.70927502e-03],\n",
       "       [  2.22400287e-01,   5.85064308e-02,   2.50423281e-02,\n",
       "          5.53749008e-02,   1.06108797e-01,   2.36958217e-02,\n",
       "          1.94615100e-02,   3.35212026e-03,   7.72485412e-03,\n",
       "          3.65192386e-02,   5.89045815e-03,   5.88768511e-02,\n",
       "          1.02163106e-02,   2.75978390e-02,   8.79829896e-02,\n",
       "          8.70897907e-04,   1.76939170e-02,   2.45491632e-02,\n",
       "          8.42989479e-03,   1.26132488e-02,   9.92636902e-03,\n",
       "          3.84603448e-03,   1.24761167e-03,   5.81277033e-03,\n",
       "          2.60763798e-03,   8.41858354e-03,   3.96334671e-03,\n",
       "          7.59917544e-03,   1.01387568e-03],\n",
       "       [  7.06882321e-03,   5.17090772e-02,   8.28318283e-03,\n",
       "          8.79626920e-02,   1.25665017e-01,   6.71081937e-02,\n",
       "          9.78460625e-03,   1.20872150e-02,   3.09926374e-03,\n",
       "          1.77745008e-01,   3.40764480e-02,   8.73300547e-03,\n",
       "          1.05516851e-02,   4.56397513e-03,   3.44320931e-02,\n",
       "          1.10209351e-02,   1.29646962e-02,   3.34578160e-02,\n",
       "          5.29718443e-03,   6.73430743e-03,   1.47590182e-02,\n",
       "          1.45620919e-03,   1.87500337e-03,   3.56013728e-03,\n",
       "          2.21755390e-04,   4.35894622e-03,   4.07931410e-03,\n",
       "          2.59070403e-03,   8.09232538e-03],\n",
       "       [  2.24601038e-02,   1.59071006e-01,   7.39509743e-03,\n",
       "          6.80515980e-03,   4.76651979e-02,   4.29094379e-02,\n",
       "          2.79750124e-02,   1.18998188e-02,   2.20005864e-01,\n",
       "          5.40333495e-02,   2.28095605e-02,   3.18802504e-02,\n",
       "          4.60181805e-03,   7.35207628e-02,   4.89036414e-03,\n",
       "          9.16028576e-03,   1.59226810e-02,   2.62951239e-02,\n",
       "          1.85653604e-03,   7.66925570e-03,   5.51098775e-03,\n",
       "          2.12824652e-02,   8.03797709e-03,   6.28088566e-03,\n",
       "          7.01168992e-04,   2.04831145e-03,   3.05468742e-03,\n",
       "          1.45307254e-02,   2.08065966e-02]])"
      ]
     },
     "execution_count": 51,
     "metadata": {},
     "output_type": "execute_result"
    }
   ],
   "source": [
    "beta[:, 1:] * (1 - beta[:, :-1]).cumprod(axis=1)"
   ]
  },
  {
   "cell_type": "code",
   "execution_count": 52,
   "metadata": {
    "collapsed": true
   },
   "outputs": [],
   "source": [
    "w = np.empty_like(beta)\n",
    "w[:, 0] = beta[:, 0]\n",
    "w[:, 1:] = beta[:, 1:] * (1 - beta[:, :-1]).cumprod(axis=1)"
   ]
  },
  {
   "cell_type": "markdown",
   "metadata": {},
   "source": [
    "Note the stick breaking process simulated above. \n",
    "1. Each \"stick\" is broken at beta[0].\n",
    "2. The second part of the statement is the amount left over. The first part of the statement is the breakpoint.\n",
    "3. The remainder - (1 - beta[0]) is broken at beta[1] giving: (1 - beta[0]) * beta[:, 1:]\n"
   ]
  },
  {
   "cell_type": "code",
   "execution_count": 53,
   "metadata": {},
   "outputs": [
    {
     "data": {
      "text/plain": [
       "<matplotlib.axes._subplots.AxesSubplot at 0x1a1fcd1cf8>"
      ]
     },
     "execution_count": 53,
     "metadata": {},
     "output_type": "execute_result"
    },
    {
     "data": {
      "image/png": "[encoded data removed]",
      "text/plain": [
       "<matplotlib.figure.Figure at 0x1a1fda5940>"
      ]
     },
     "metadata": {},
     "output_type": "display_data"
    }
   ],
   "source": [
    "pd.DataFrame(w).plot(kind='bar', stacked=True, legend=False)"
   ]
  },
  {
   "cell_type": "markdown",
   "metadata": {},
   "source": [
    "From P0 (which is a gamma dist) get N, K variables<br>\n",
    "So, *omega* is just a bunch of random variables generated from a normal ~ N(0, 1) (no covariance)"
   ]
  },
  {
   "cell_type": "code",
   "execution_count": 54,
   "metadata": {},
   "outputs": [
    {
     "data": {
      "image/png": "[encoded data removed]",
      "text/plain": [
       "<matplotlib.figure.Figure at 0x1a218ec208>"
      ]
     },
     "metadata": {},
     "output_type": "display_data"
    }
   ],
   "source": [
    "omega = P0.rvs(1, size=(N, K))\n",
    "_ = sns.distplot(omega.ravel())"
   ]
  },
  {
   "cell_type": "code",
   "execution_count": 55,
   "metadata": {
    "collapsed": true
   },
   "outputs": [],
   "source": [
    "x_plot = np.linspace(-3, 3, 200)"
   ]
  },
  {
   "cell_type": "markdown",
   "metadata": {},
   "source": [
    "We want to know where each value of x_plot is greater that the values generated from the normal. \n",
    "We're basically doing a cdf and multiplying (dot prod) it by *w* to get the totals for the cdf"
   ]
  },
  {
   "cell_type": "code",
   "execution_count": 56,
   "metadata": {
    "collapsed": true
   },
   "outputs": [],
   "source": [
    "sample_cdfs = (w[..., np.newaxis] * np.less.outer(omega, x_plot)).sum(axis=1)"
   ]
  },
  {
   "cell_type": "code",
   "execution_count": 57,
   "metadata": {},
   "outputs": [
    {
     "data": {
      "text/plain": [
       "((20, 30), (20, 30, 200), (200,))"
      ]
     },
     "execution_count": 57,
     "metadata": {},
     "output_type": "execute_result"
    }
   ],
   "source": [
    "np.shape(omega), np.shape(np.less.outer(omega, x_plot)), np.shape(x_plot)"
   ]
  },
  {
   "cell_type": "code",
   "execution_count": 58,
   "metadata": {},
   "outputs": [
    {
     "data": {
      "text/plain": [
       "0.36787944117144233"
      ]
     },
     "execution_count": 58,
     "metadata": {},
     "output_type": "execute_result"
    }
   ],
   "source": [
    "P0.pdf(1, 1)"
   ]
  },
  {
   "cell_type": "code",
   "execution_count": 59,
   "metadata": {},
   "outputs": [
    {
     "data": {
      "image/png": "[encoded data removed]",
      "text/plain": [
       "<matplotlib.figure.Figure at 0x1a216ab3c8>"
      ]
     },
     "metadata": {},
     "output_type": "display_data"
    }
   ],
   "source": [
    "ig, ax = plt.subplots(figsize=(8, 6))\n",
    "\n",
    "ax.plot(x_plot, sample_cdfs[0], c='gray', alpha=0.75,\n",
    "        label='DP sample CDFs');\n",
    "ax.plot(x_plot, sample_cdfs[1:].T, c='gray', alpha=0.75);\n",
    "ax.plot(x_plot, P0.cdf(x_plot, 1), c='k', label='Base CDF');\n",
    "\n",
    "ax.set_title(r'$\\alpha = {}$'.format(alpha));\n",
    "ax.legend(loc=2);\n"
   ]
  },
  {
   "cell_type": "code",
   "execution_count": null,
   "metadata": {
    "collapsed": true
   },
   "outputs": [],
   "source": []
  }
 ],
 "metadata": {
  "kernelspec": {
   "display_name": "Python 3",
   "language": "python",
   "name": "python3"
  },
  "language_info": {
   "codemirror_mode": {
    "name": "ipython",
    "version": 3
   },
   "file_extension": ".py",
   "mimetype": "text/x-python",
   "name": "python",
   "nbconvert_exporter": "python",
   "pygments_lexer": "ipython3",
   "version": "3.6.3"
  }
 },
 "nbformat": 4,
 "nbformat_minor": 2
}
