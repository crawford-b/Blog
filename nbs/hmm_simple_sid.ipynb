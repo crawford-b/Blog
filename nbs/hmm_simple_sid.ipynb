{
 "cells": [
  {
   "cell_type": "code",
   "execution_count": null,
   "metadata": {},
   "outputs": [],
   "source": [
    "%load_ext autoreload\n",
    "%autoreload 2"
   ]
  },
  {
   "cell_type": "code",
   "execution_count": null,
   "metadata": {},
   "outputs": [],
   "source": [
    "import matplotlib.pyplot as plt\n",
    "import pymc as pm\n",
    "import aesara.tensor as at\n",
    "import scipy as sp \n",
    "from sklearn.metrics import roc_curve, roc_auc_score\n",
    "from sklearn.exceptions import UndefinedMetricWarning\n",
    "import seaborn as sns\n",
    "import pandas as pd\n",
    "import altair as alt\n",
    "import warnings"
   ]
  },
  {
   "cell_type": "code",
   "execution_count": null,
   "metadata": {},
   "outputs": [],
   "source": [
    "from generate_sample import SampleGenerator\n",
    "import pymc.distributions.transforms as tr\n",
    "\n",
    "import numpy as np"
   ]
  },
  {
   "cell_type": "code",
   "execution_count": null,
   "metadata": {},
   "outputs": [],
   "source": [
    "sg = SampleGenerator(\"poisson\", [{'lambda':5}, {'lambda': 10}], 2, \n",
    "                     np.array([[0.8, 0.2],[0.2, 0.8]]))\n",
    "\n",
    "vals_simple, states_orig_simple = sg.generate_samples(100)"
   ]
  },
  {
   "cell_type": "code",
   "execution_count": null,
   "metadata": {},
   "outputs": [],
   "source": [
    "df_simple = pd.DataFrame({'vals':vals_simple, 'states':states_orig_simple}).reset_index()"
   ]
  },
  {
   "cell_type": "code",
   "execution_count": null,
   "metadata": {},
   "outputs": [],
   "source": [
    "points = alt.Chart(df_simple).mark_circle().encode(\n",
    "    x = alt.X('index', title='Timestamp'),\n",
    "    y = alt.Y('vals', title='Value'),\n",
    "    color =alt.Color('states:N',title='State'),\n",
    "    tooltip = [alt.Tooltip(field='vals', type='quantitative', title='Value'),\n",
    "               alt.Tooltip(field='index', type='quantitative', title='Timestamp')]\n",
    ").properties(\n",
    "    width=800\n",
    ")\n",
    "\n",
    "lines = alt.Chart(df_simple).mark_line().encode(\n",
    "    size = alt.value(1),\n",
    "    x='index', #alt.X('index', title='Timestamp'),\n",
    "    y='vals' #alt.Y('vals', title='Value'),\n",
    ")\n",
    "\n",
    "\n",
    "\n",
    "states = alt.Chart(df_simple).mark_line().encode(\n",
    "    x=alt.X('index', title='Timestamp'),\n",
    "    y=alt.Y('states', title='Value'),\n",
    "    size=alt.value(2),\n",
    "    color=alt.value('green')\n",
    ").properties(\n",
    "    width=800\n",
    ")\n",
    "\n",
    "points + lines & states\n",
    "\n"
   ]
  },
  {
   "cell_type": "code",
   "execution_count": null,
   "metadata": {},
   "outputs": [],
   "source": [
    "class StateTransitions(pm.Categorical):\n",
    "    '''\n",
    "    Distribution of state\n",
    "    '''\n",
    "    def __init__(self, trans_prob=None, init_prob=None, * args, ** kwargs):\n",
    "        \n",
    "        super(pm.Categorical, self).__init__(* args, ** kwargs)\n",
    "        \n",
    "        self.trans_prob = trans_prob\n",
    "        self.init_prob = init_prob\n",
    "        \n",
    "        # Housekeeping\n",
    "        self.mode = tt.cast(0,dtype='int64')\n",
    "        self.k = 2\n",
    "        \n",
    "    def logp(self, x):\n",
    "        \n",
    "        trans_prob = self.trans_prob\n",
    "        \n",
    "        p = trans_prob[x[:-1]] # probability of transitioning based on previous state\n",
    "        x_i = x[1:]            # the state you end up in\n",
    "        \n",
    "        log_p = pm.Categorical.dist(p, shape=(self.shape[0],2)).logp_sum(x_i)\n",
    "        \n",
    "        return pm.Categorical.dist(self.init_prob).logp(x[0]) + log_p"
   ]
  },
  {
   "cell_type": "code",
   "execution_count": null,
   "metadata": {},
   "outputs": [],
   "source": [
    "class PoissionProcess(pm.Discrete):\n",
    "    \n",
    "    def __init__(self, state=None, lambdas=None, *args, **kwargs):\n",
    "        \n",
    "        super(PoissionProcess, self).__init__(*args, **kwargs)\n",
    "        \n",
    "        self.state = state\n",
    "        self.lambdas = lambdas\n",
    "\n",
    "        # Housekeeping\n",
    "        self.mode = tt.cast(1,dtype='int64')\n",
    "    \n",
    "    def logp(self, x):\n",
    "        \n",
    "        lambd = self.lambdas[self.state]\n",
    "        llike = pm.Poisson.dist(lambd).logp_sum(x)\n",
    "            \n",
    "        return llike"
   ]
  },
  {
   "cell_type": "code",
   "execution_count": null,
   "metadata": {},
   "outputs": [],
   "source": [
    "chain_tran = tr.Chain([tr.ordered])\n",
    "\n",
    "with pm.Model() as m:\n",
    "    \n",
    "    lambdas = pm.Gamma('lam0', mu = 10, sigma = 100, shape = 2, transform=chain_tran,  initval=np.asarray([1., 1.5]))\n",
    "    \n",
    "    init_probs = pm.Dirichlet('init_probs', a = at.ones(2), shape=2)\n",
    "    state_trans = pm.Dirichlet('state_trans', a = at.ones(2), shape=(2,2))\n",
    "    \n",
    "    states = StateTransitions('states', state_trans, init_probs, shape=len(vals_simple))\n",
    "    \n",
    "    y = PoissionProcess('Output', states, lambdas, observed=vals_simple)"
   ]
  },
  {
   "cell_type": "code",
   "execution_count": null,
   "metadata": {},
   "outputs": [],
   "source": [
    "with m:\n",
    "    trace = pm.sample(tune=2000, sample=1000, chains=2)"
   ]
  },
  {
   "cell_type": "code",
   "execution_count": null,
   "metadata": {},
   "outputs": [],
   "source": [
    "pm.traceplot(trace);"
   ]
  },
  {
   "cell_type": "code",
   "execution_count": null,
   "metadata": {},
   "outputs": [],
   "source": [
    "pm.summary(varnames=['state_trans'], trace=trace)"
   ]
  },
  {
   "cell_type": "code",
   "execution_count": null,
   "metadata": {},
   "outputs": [],
   "source": [
    "pm.summary(varnames=['lam0'], trace=trace)"
   ]
  },
  {
   "cell_type": "code",
   "execution_count": null,
   "metadata": {},
   "outputs": [],
   "source": [
    "df_simple['inferred_states'] = trace['states'].mean(axis=0)\n",
    "df_simple['low'] = trace['states'].mean(axis=0) - 2 * trace['states'].std(axis=0) \n",
    "df_simple['high'] = trace['states'].mean(axis=0) + 2 * trace['states'].std(axis=0) "
   ]
  },
  {
   "cell_type": "code",
   "execution_count": null,
   "metadata": {},
   "outputs": [],
   "source": [
    "points = alt.Chart(df_simple).mark_circle().encode(\n",
    "    x = alt.X('index', title='Timestamp'),\n",
    "    y = alt.Y('vals',title='Value'),\n",
    "    color =alt.Color('states:N',title='Color'),\n",
    "    tooltip=[alt.Tooltip(field='index', title='Timestamp', type='quantitative'),\n",
    "             alt.Tooltip(field='vals', title='Value', type='quantitative')]\n",
    ").properties(\n",
    "    width=600\n",
    ")\n",
    "\n",
    "lines = alt.Chart(df_simple).mark_line().encode(\n",
    "    size = alt.value(1),\n",
    "    x=alt.X('index', title='Timestamp'),\n",
    "    y=alt.Y('inferred_states', title=''),\n",
    ")\n",
    "\n",
    "confidence_interval = alt.Chart(df_simple).mark_area(opacity=0.3).encode(\n",
    "    x='index',\n",
    "    y='low',\n",
    "    y2='high'\n",
    ")\n",
    "\n",
    "states = alt.Chart(df_simple).mark_line().encode(\n",
    "    x=alt.X('index', title='Timestamp'),\n",
    "    y=alt.Y('states', title='State Probabilility'),\n",
    "    size=alt.value(1),\n",
    "    color=alt.value('red')\n",
    ").properties(\n",
    "    width=800\n",
    ")\n",
    "\n",
    "#points + lines & states\n",
    "\n",
    "alt.layer(\n",
    "    states + lines + confidence_interval,\n",
    "    points,  \n",
    ").resolve_scale(\n",
    "    y='independent'\n",
    ")\n",
    "\n",
    "\n"
   ]
  },
  {
   "cell_type": "code",
   "execution_count": null,
   "metadata": {},
   "outputs": [],
   "source": [
    "f, ax = plt.subplots(figsize=(10, 7))\n",
    "\n",
    "fpr, tpr, _ = roc_curve(y_score=df_simple['inferred_states'], y_true=df_simple['states'])\n",
    "#ax.plot(fpr, tpr, color='green')\n",
    "\n",
    "for sample in range(1000):\n",
    "    idx = np.random.choice(trace['states'].shape[0], size = 100)\n",
    "    mu  = trace['states'][idx, :].mean(axis=0)\n",
    "    with warnings.catch_warnings():\n",
    "        warnings.filterwarnings(\"ignore\")\n",
    "        fpr, tpr, _ = roc_curve(y_score=mu, y_true=df_simple['states'])\n",
    "    ax.plot(fpr, tpr, lw=0.5, alpha = 0.2, color='dodgerblue')\n",
    "ax.grid()\n",
    "sns.despine(left=True, bottom=False)\n",
    "\n",
    "fpr, tpr, _ = roc_curve(y_score=df_simple['inferred_states'], y_true=df_simple['states'])\n",
    "ax.plot(fpr, tpr, color='orange', lw=3)\n",
    "\n",
    "ax.set_ylabel('FPR')\n",
    "ax.set_xlabel('TPR')\n",
    "\n",
    "plt.savefig(\"../../../sidravi1.github.io/assets/2019-01-25_simple_ROC.png\")\n",
    "roc_auc_score(y_score=trace['states'].mean(axis=0), y_true=df_simple['states'])"
   ]
  },
  {
   "cell_type": "markdown",
   "metadata": {},
   "source": [
    "# Hierarchical"
   ]
  },
  {
   "cell_type": "code",
   "execution_count": null,
   "metadata": {},
   "outputs": [],
   "source": [
    "n_samples = 100\n",
    "n_cats = 12"
   ]
  },
  {
   "cell_type": "code",
   "execution_count": null,
   "metadata": {},
   "outputs": [],
   "source": [
    "sg3_super = SampleGenerator(\"poisson\", [{'lambda':5}, {'lambda': 15}], 2, \n",
    "                     np.array([[0.9, 0.1],[0.1, 0.9]]))\n",
    "vals_super, states_orig_super = sg3_super.generate_samples(n_samples)"
   ]
  },
  {
   "cell_type": "code",
   "execution_count": null,
   "metadata": {},
   "outputs": [],
   "source": [
    "f, ax = plt.subplots(figsize=(10,5))\n",
    "ax.plot(np.arange(n_samples), states_orig_super, color='firebrick', alpha = 0.4)\n",
    "ax2 = ax.twinx()\n",
    "ax2.plot(np.arange(n_samples), vals_super)\n",
    "ax.yaxis.set_visible(False)\n",
    "ax.fill_between(x=np.arange(n_samples), y1=states_orig_super, y2=0, alpha=0.2, color='firebrick')\n",
    "ax2.grid()\n",
    "sns.despine(left=True)\n",
    "\n",
    "plt.savefig(\"../../../sidravi1.github.io/assets/2019-01-25_hier_super.png\")"
   ]
  },
  {
   "cell_type": "code",
   "execution_count": null,
   "metadata": {},
   "outputs": [],
   "source": [
    "# sub-categories\n",
    "\n",
    "vals = np.zeros((n_cats, n_samples))\n",
    "vals_h = np.zeros((n_cats, n_samples))\n",
    "\n",
    "stages = np.zeros((n_cats, n_samples))\n",
    "for sim in range(n_cats):\n",
    "    \n",
    "    s1 = sp.stats.dirichlet.rvs(alpha=[18, 2])\n",
    "    s2 = sp.stats.dirichlet.rvs(alpha=[2, 18])\n",
    "    transition = np.stack([s1, s2], axis=1).squeeze()\n",
    "\n",
    "    sg = SampleGenerator(\"poisson\", [{'lambda':5}, {'lambda': 10}], \n",
    "                         2, transition)\n",
    "    \n",
    "    vals[sim, :], stages[sim, :] = sg.generate_samples(n_samples)\n",
    "    vals_h[sim, :] = vals[sim, :] + vals_super"
   ]
  },
  {
   "cell_type": "code",
   "execution_count": null,
   "metadata": {},
   "outputs": [],
   "source": [
    "f, axes = plt.subplots(int(np.ceil(n_cats/3)), 3, figsize=(15, 10), sharex=True, sharey=True)\n",
    "for ax, i in zip(axes.ravel(), np.arange(n_cats)):\n",
    "    ax.plot(np.arange(n_samples), vals[i])\n",
    "    ax2 = ax.twinx()\n",
    "    ax2.plot(np.arange(n_samples), stages[i], color='firebrick', alpha = 0.4)\n",
    "    ax2.yaxis.set_visible(False)\n",
    "    ax2.fill_between(x=np.arange(n_samples), y1=stages[i], y2=0, alpha=0.2, color='firebrick')\n",
    "    ax.grid()\n",
    "sns.despine(left=True, bottom=False)\n",
    "plt.tight_layout()\n",
    "\n",
    "plt.savefig(\"../../../sidravi1.github.io/assets/2019-01-25_hier_sub.png\") "
   ]
  },
  {
   "cell_type": "code",
   "execution_count": null,
   "metadata": {},
   "outputs": [],
   "source": [
    "class HStateTransitions(pm.Categorical):\n",
    "    \n",
    "    def __init__(self, trans_prob=None, init_prob=None, *args, **kwargs):\n",
    "        \n",
    "        super(pm.Categorical, self).__init__(*args, **kwargs)\n",
    "        \n",
    "        self.trans_prob = trans_prob\n",
    "        self.init_prob = init_prob\n",
    "        \n",
    "        # Housekeeping\n",
    "        self.mode = tt.cast(0,dtype='int64')\n",
    "        self.k = 2\n",
    "        \n",
    "    def logp(self, x):\n",
    "        \n",
    "        trans_prob = self.trans_prob\n",
    "        \n",
    "        p = trans_prob[x[:-1]] # probability of the previous state you were in\n",
    "        x_i = x[1:]            # the state you end up in\n",
    "        \n",
    "        log_p = pm.Categorical.dist(p, shape=(self.shape[0],1)).logp_sum(x_i)\n",
    "        initlike = pm.Categorical.dist(self.init_prob).logp(x[0])\n",
    "        \n",
    "        return log_p + initlike"
   ]
  },
  {
   "cell_type": "code",
   "execution_count": null,
   "metadata": {},
   "outputs": [],
   "source": [
    "class HPoissionProcess(pm.Discrete):\n",
    "    \n",
    "    def __init__(self, state=None, state_super=None, lambdas=None, super_lambdas=None, *args, **kwargs):\n",
    "        \n",
    "        super(HPoissionProcess, self).__init__(*args, **kwargs)\n",
    "        \n",
    "        self.state = state\n",
    "        self.super_state = state_super\n",
    "        self.lambdas = lambdas\n",
    "        self.super_lambdas = lambdas\n",
    "        \n",
    "    def logp(self, x):\n",
    "        \n",
    "        lambd = self.lambdas[self.state]\n",
    "        lambd_super = self.super_lambdas[self.super_state]\n",
    "        \n",
    "        #llike = pm.Poisson.dist(lambd + lambd_super).logp_sum(x) # since they are independant\n",
    "        llike = pm.Mixture.dist(w=[0.5, 0.5], comp_dists=[pm.Poisson.dist(lambd), pm.Poisson.dist(lambd_super)]).logp_sum(x)\n",
    "        \n",
    "        return llike"
   ]
  },
  {
   "cell_type": "code",
   "execution_count": null,
   "metadata": {},
   "outputs": [],
   "source": [
    "chain_tran = tr.Chain([tr.ordered])\n",
    "with pm.Model() as m2:\n",
    "    \n",
    "    lambd = [0] * n_cats\n",
    "    state_trans = [0] * n_cats\n",
    "    states = [0] * n_cats\n",
    "    y = [0] * n_cats\n",
    "    init_probs = [0] * n_cats\n",
    "    \n",
    "    lambd_super = pm.Gamma('lam_super', mu = 10, sd = 10, shape=2, transform=chain_tran,  testval=np.asarray([1., 1.5]))\n",
    "    init_probs_super = pm.Dirichlet('init_probs_super', a = tt.ones(2), shape=2)\n",
    "    state_trans_super = pm.Dirichlet('state_trans_super', a = tt.ones(2), shape=(2,2))\n",
    "    states_super = HStateTransitions('states_super', state_trans_super, init_probs_super, shape=len(vals_super))\n",
    "    \n",
    "    for sim in range(n_cats):\n",
    "\n",
    "        lambd[sim] = pm.Gamma('lam{}'.format(sim), mu = 10, sd = 10, shape=2, \n",
    "                              transform=chain_tran, testval=np.asarray([1., 1.5]))\n",
    "        init_probs[sim] = pm.Dirichlet('init_probs_{}'.format(sim), a = tt.ones(2), shape=2)\n",
    "        state_trans[sim] = pm.Dirichlet('state_trans{}'.format(sim), a = tt.ones(2), shape=(2,2))\n",
    "        states[sim] = HStateTransitions('states{}'.format(sim), state_trans[sim], init_probs[sim], shape=n_samples)\n",
    "        y[sim] = HPoissionProcess('Output{}'.format(sim), states[sim], states_super, lambd[sim], lambd_super, observed=vals_h[sim])\n"
   ]
  },
  {
   "cell_type": "code",
   "execution_count": null,
   "metadata": {},
   "outputs": [],
   "source": [
    "with m2:\n",
    "    trace2 = pm.sample(tune=4000, sample=1000, init='adapt_diag', chains = 2, target_accept = 0.99)"
   ]
  },
  {
   "cell_type": "code",
   "execution_count": null,
   "metadata": {},
   "outputs": [],
   "source": [
    "with m2:\n",
    "    trace2_1 = pm.sample(tune=4000, sample=1000, init='adapt_diag', chains = 2, target_accept = 0.99)"
   ]
  },
  {
   "cell_type": "code",
   "execution_count": null,
   "metadata": {},
   "outputs": [],
   "source": [
    "f, axes = plt.subplots(int(np.ceil(n_cats/3)), 3, figsize=(15, 10), sharex=True, sharey=True)\n",
    "for ax, i in zip(axes.ravel(), np.arange(n_cats)):\n",
    "    low, med, high = np.percentile(trace2_1['states{}'.format(i)], [5, 50, 95], axis=0)\n",
    "    #ax.plot(np.arange(n_samples), vals[i])\n",
    "    mu = np.mean(trace2_1['states{}'.format(i)], axis=0)\n",
    "    sd = np.std(trace2_1['states{}'.format(i)], axis=0)\n",
    "    ax.plot(np.arange(n_samples), mu)\n",
    "    ax.plot(np.arange(n_samples), stages[i], color='firebrick', ls='--', alpha=0.8)\n",
    "    ax.fill_between(np.arange(n_samples), y1=mu - 1*sd, y2=mu + 2*sd, color='orange', alpha=0.3)\n",
    "    #ax.fill_between(np.arange(n_samples), y1=low, y2=high, color='orange', alpha=0.3)\n",
    "    ax.grid()\n",
    "sns.despine(left=True, bottom=False)\n",
    "\n",
    "for ax in axes[:, 0]:\n",
    "    ax.set_ylabel('State')\n",
    "for ax in axes[-1, :]:\n",
    "    ax.set_xlabel('Time')    \n",
    "plt.tight_layout()\n",
    "\n",
    "plt.savefig(\"../../../sidravi1.github.io/assets/2019-01-25_hier_sub_results.png\")"
   ]
  },
  {
   "cell_type": "code",
   "execution_count": null,
   "metadata": {},
   "outputs": [],
   "source": [
    "import warnings\n",
    "\n",
    "f, axes = plt.subplots(int(np.ceil(n_cats/3)), 3, figsize=(15, 10), sharex=True, sharey=True)\n",
    "for ax, i in zip(axes.ravel(), np.arange(n_cats)):\n",
    "    y_true = stages[i]\n",
    "    y_pred = np.mean(trace2_1['states{}'.format(i)], axis=0)\n",
    "    fpr, tpr, _ = roc_curve(y_score=y_pred, y_true=y_true)\n",
    "    ax.plot(fpr, tpr, lw=4, color='r')\n",
    "    \n",
    "    for sample in range(100):\n",
    "        idx = np.random.choice(trace2_1['states{}'.format(i)].shape[0], size = 300)\n",
    "        mu  = trace2_1['states{}'.format(i)][idx, :].mean(axis=0)\n",
    "        with warnings.catch_warnings():\n",
    "            warnings.filterwarnings(\"ignore\")\n",
    "            fpr, tpr, _ = roc_curve(y_score=mu, y_true=y_true)\n",
    "        ax.plot(fpr, tpr, lw=0.5, alpha = 0.2, color='dodgerblue')\n",
    "    ax.grid()\n",
    "    ax.plot([0, 1], [0, 1], \":k\")\n",
    "sns.despine(left=True, bottom=False)\n",
    "\n",
    "for ax in axes[:, 0]:\n",
    "    ax.set_ylabel('True Positive')\n",
    "for ax in axes[-1, :]:\n",
    "    ax.set_xlabel('False Positive')   \n",
    "    \n",
    "plt.tight_layout()\n",
    "\n",
    "plt.savefig(\"../../../sidravi1.github.io/assets/2019-01-25_hier_sub_roc.png\")"
   ]
  },
  {
   "cell_type": "code",
   "execution_count": null,
   "metadata": {},
   "outputs": [],
   "source": [
    "f, ax = plt.subplots(figsize=(10, 5))\n",
    "\n",
    "y_true = states_orig_super\n",
    "y_pred = np.mean(trace2_1['states_super'], axis=0)\n",
    "\n",
    "for sample in range(1000):\n",
    "    idx = np.random.choice(trace2_1['states_super'].shape[0], size = 100)\n",
    "    mu  = trace2['states_super'][idx, :].mean(axis=0)\n",
    "    with warnings.catch_warnings():\n",
    "        warnings.filterwarnings(\"ignore\")\n",
    "        fpr, tpr, _ = roc_curve(y_score=mu, y_true=y_true)\n",
    "    ax.plot(fpr, tpr, lw=0.5, alpha = 0.2, color='dodgerblue')\n",
    "ax.grid()\n",
    "sns.despine(left=True, bottom=False)\n",
    "\n",
    "fpr, tpr, _ = roc_curve(y_score=y_pred, y_true=y_true)\n",
    "ax.plot(fpr, tpr, lw=4, color='r')\n",
    "ax.plot([0, 1], [0, 1], \":k\")\n",
    "\n",
    "plt.savefig(\"../../../sidravi1.github.io/assets/2019-01-25_hier_super_roc.png\")"
   ]
  },
  {
   "cell_type": "code",
   "execution_count": null,
   "metadata": {},
   "outputs": [],
   "source": [
    "f, ax = plt.subplots(figsize=(10,5))\n",
    "ax.plot(np.arange(n_samples), states_orig_super, color='firebrick', alpha = 0.4)\n",
    "ax2 = ax.twinx()\n",
    "ax.fill_between(x=np.arange(n_samples), y1=states_orig_super, y2=0, color='firebrick', alpha = 0.2)\n",
    "y_pred = np.mean(trace2_1['states_super'], axis=0)\n",
    "ax2.plot(np.arange(n_samples), y_pred, '--')\n",
    "ax2.yaxis.set_visible(False)\n",
    "ax.grid()\n",
    "sns.despine(left=True)\n",
    "\n",
    "plt.savefig(\"../../../sidravi1.github.io/assets/2019-01-25_hier_super_results.png\")"
   ]
  },
  {
   "cell_type": "markdown",
   "metadata": {},
   "source": [
    "# Heirarchical Mixture model"
   ]
  },
  {
   "cell_type": "code",
   "execution_count": null,
   "metadata": {},
   "outputs": [],
   "source": [
    "class PoissionProcess(pm.Discrete):\n",
    "    \n",
    "    def __init__(self, state=None, lambdas=None, *args, **kwargs):\n",
    "        \n",
    "        super(PoissionProcess, self).__init__(*args, **kwargs)\n",
    "        \n",
    "        self.state = state\n",
    "        self.lambdas = lambdas\n",
    "        \n",
    "        self.mode = tt.cast(0,dtype='int64')\n",
    "        self.k = 2\n",
    "        \n",
    "    def logp(self, x):\n",
    "        \n",
    "        lambd = self.lambdas[self.state]\n",
    "        llike = pm.Poisson.dist(lambd).logp_sum(x)\n",
    "            \n",
    "        return llike"
   ]
  },
  {
   "cell_type": "code",
   "execution_count": null,
   "metadata": {},
   "outputs": [],
   "source": [
    "import pymc3.distributions.transforms as tr\n",
    "\n",
    "chain_tran = tr.Chain([tr.log, tr.ordered])\n",
    "\n",
    "with pm.Model() as m3:\n",
    "    \n",
    "    lambd = [0] * n_cats\n",
    "    state_trans = [0] * n_cats\n",
    "    states = [0] * n_cats\n",
    "    y = [0] * n_cats\n",
    "    sub_proc = [0] * n_cats\n",
    "    \n",
    "    lambd_super = pm.Gamma('lam_super', mu = 50, sd = 100, shape=2, transform=chain_tran,  testval=np.asarray([1., 1.5]))\n",
    "    #init_probs_super = pm.Dirichlet('init_probs_super', a = tt.ones(2), shape=2)\n",
    "    state_trans_super = pm.Dirichlet('state_trans_super', a = tt.ones(2), shape=(2,2))\n",
    "    states_super = HStateTransitions('states_super', state_trans_super, shape=len(vals_super))\n",
    "    proc_super = PoissionProcess.dist(states_super, lambd_super)\n",
    "    \n",
    "    #w = pm.Dirichlet('w', a=np.array([1, 1]), shape=(n_cats, 2))\n",
    "    \n",
    "    for sim in range(n_cats):\n",
    "        \n",
    "        lambd[sim] = pm.Gamma('lam{}'.format(sim), mu = 50, sd = 50, shape=2, \n",
    "                              transform=chain_tran, testval=np.asarray([1., 1.5]))\n",
    "        \n",
    "        state_trans[sim] = pm.Dirichlet('state_trans{}'.format(sim), a = tt.ones(2), shape=(2,2))\n",
    "        states[sim] = HStateTransitions('states{}'.format(sim), state_trans[sim], shape=n_samples)\n",
    "        sub_proc[sim] = PoissionProcess.dist(states[sim], lambd[sim])\n",
    "        \n",
    "        y = pm.Mixture('mix{}'.format(sim), comp_dists=[proc_super, sub_proc[sim]], w=np.array([0.5, 0.5]), observed=vals_h[sim])\n"
   ]
  },
  {
   "cell_type": "code",
   "execution_count": null,
   "metadata": {},
   "outputs": [],
   "source": [
    "with m3:\n",
    "    trace3 = pm.sample(tune=3000, sample=1000, init='adapt_diag', n_chains=2, target_accept=0.95)"
   ]
  },
  {
   "cell_type": "code",
   "execution_count": null,
   "metadata": {},
   "outputs": [],
   "source": [
    "f, axes = plt.subplots(int(np.ceil(n_cats/3)), 3, figsize=(10, 10), sharex=True, sharey=True)\n",
    "for ax, i in zip(axes.ravel(), np.arange(n_cats)):\n",
    "    low, med, high = np.percentile(trace3['states{}'.format(i)], [5, 20, 95], axis=0)\n",
    "    ax.plot(np.arange(n_samples), med)\n",
    "    ax.plot(np.arange(n_samples), stages[i], color='firebrick', ls='--', alpha=0.8)\n",
    "    ax.fill_between(np.arange(n_samples), y1=low, y2=high, color='orange', alpha=0.3)\n",
    "    \n",
    "plt.tight_layout()"
   ]
  },
  {
   "cell_type": "code",
   "execution_count": null,
   "metadata": {},
   "outputs": [],
   "source": [
    "init = np.array([1, 1, 1, 0])\n",
    "left = np.array([[1, 0, 0, 0],[1, 0, 0, 0],[1/3, 1/3, 0, 1/3], [0, 0, 1, 0]])\n",
    "right = np.array([[0, 1, 0, 0],[0, 0, 1, 0],[1/3, 1/3, 0, 1/3],[0, 0, 0, 1]])"
   ]
  },
  {
   "cell_type": "code",
   "execution_count": null,
   "metadata": {},
   "outputs": [],
   "source": [
    "left"
   ]
  },
  {
   "cell_type": "code",
   "execution_count": null,
   "metadata": {},
   "outputs": [],
   "source": [
    "right"
   ]
  },
  {
   "cell_type": "code",
   "execution_count": null,
   "metadata": {},
   "outputs": [],
   "source": [
    "mat = (left @ right @ left).sum(axis=0) / (left @ right @ left).sum()"
   ]
  },
  {
   "cell_type": "code",
   "execution_count": null,
   "metadata": {},
   "outputs": [],
   "source": [
    "mat = ((left * init) @ right @ left)"
   ]
  },
  {
   "cell_type": "code",
   "execution_count": null,
   "metadata": {},
   "outputs": [],
   "source": [
    "a = mat.sum(axis=1) / mat.sum()\n",
    "a"
   ]
  },
  {
   "cell_type": "code",
   "execution_count": null,
   "metadata": {},
   "outputs": [],
   "source": []
  },
  {
   "cell_type": "code",
   "execution_count": null,
   "metadata": {},
   "outputs": [],
   "source": [
    "pm.ZeroInflatedPoisson(psi=)"
   ]
  }
 ],
 "metadata": {
  "kernelspec": {
   "display_name": "Python 3 (ipykernel)",
   "language": "python",
   "name": "python3"
  },
  "language_info": {
   "codemirror_mode": {
    "name": "ipython",
    "version": 3
   },
   "file_extension": ".py",
   "mimetype": "text/x-python",
   "name": "python",
   "nbconvert_exporter": "python",
   "pygments_lexer": "ipython3",
   "version": "3.10.6"
  }
 },
 "nbformat": 4,
 "nbformat_minor": 4
}
