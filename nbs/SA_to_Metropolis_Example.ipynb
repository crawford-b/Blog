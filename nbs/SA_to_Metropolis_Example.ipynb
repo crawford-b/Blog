{
 "cells": [
  {
   "cell_type": "markdown",
   "metadata": {
    "collapsed": true
   },
   "source": [
    "# Simulated Annealing Example: Nurse scheduling problem"
   ]
  },
  {
   "cell_type": "markdown",
   "metadata": {},
   "source": [
    "This code does a quick and dirty implementation (globals everywhere... oof) of simulated annealing to solve a simple nurse scheduling problem. It was written as an example for my blog. If you are going to actually implement it, I'd write some proper classes to handle the data. "
   ]
  },
  {
   "cell_type": "code",
   "execution_count": 8,
   "metadata": {
    "collapsed": true
   },
   "outputs": [],
   "source": [
    "%matplotlib inline"
   ]
  },
  {
   "cell_type": "code",
   "execution_count": 9,
   "metadata": {
    "collapsed": true
   },
   "outputs": [],
   "source": [
    "import pandas as pd\n",
    "import numpy as np\n",
    "import seaborn as sns\n",
    "import matplotlib.pyplot as plt\n",
    "\n",
    "from collections import namedtuple\n",
    "\n",
    "from functools import partial"
   ]
  },
  {
   "cell_type": "markdown",
   "metadata": {},
   "source": [
    "## Define parameters\n",
    "\n",
    "Let's define some parameters. \n",
    "- We'll have 10 nurses and build a schedule for 10 weeks.\n",
    "- Each nurse has a preference for how many days he prefers to work per week. We generate this uniformly (but you don't have to). \n",
    "- Each nurse has a per shift cost. We generate this uniformly (but you don't have to)\n",
    "\n",
    "In a more complex implementation, I had contracted number of days per month and preferred length, i.e. how many days in a row the nurse would like to work, as different objectives. I also had multiple 'wards' within the hospital and a loss component that makes sure same person isn't working in different wards at the same time. \n",
    "\n",
    "You can take this scaffolding and make it as complex as you like."
   ]
  },
  {
   "cell_type": "code",
   "execution_count": 10,
   "metadata": {
    "collapsed": true
   },
   "outputs": [],
   "source": [
    "num_nurses = 10\n",
    "num_weeks = 10\n",
    "preferred_len = np.random.randint(1, 6, 10)\n",
    "cost = np.random.randint(1, 7, 10)"
   ]
  },
  {
   "cell_type": "markdown",
   "metadata": {},
   "source": [
    "We also want to make sure that they are being equally staffed."
   ]
  },
  {
   "cell_type": "code",
   "execution_count": 11,
   "metadata": {
    "collapsed": true
   },
   "outputs": [],
   "source": [
    "total_len = preferred_len.sum()\n",
    "preferred_len_prob = [x/total_len for x in preferred_len]"
   ]
  },
  {
   "cell_type": "markdown",
   "metadata": {},
   "source": [
    "Define *Week* class ('namedtuple' FTW). "
   ]
  },
  {
   "cell_type": "code",
   "execution_count": 12,
   "metadata": {
    "collapsed": true
   },
   "outputs": [],
   "source": [
    "days_of_week = ['m','tu','w','th','f','sa','su']\n",
    "Weektuple = namedtuple('week', days_of_week)\n",
    "\n",
    "class Week(Weektuple):\n",
    "    def days_works(self, n):\n",
    "        ''' Returns the number days worked by nurse n'''\n",
    "        return sum([x==n for x in self])\n",
    "    "
   ]
  },
  {
   "cell_type": "markdown",
   "metadata": {},
   "source": [
    "Define a *schedule* as a list of *weeks*"
   ]
  },
  {
   "cell_type": "code",
   "execution_count": 13,
   "metadata": {
    "collapsed": true
   },
   "outputs": [],
   "source": [
    "schedule = [Week(**dict(zip(days_of_week, np.random.randint(0,10,10)))) for w in range(num_weeks)]"
   ]
  },
  {
   "cell_type": "markdown",
   "metadata": {},
   "source": [
    "## Define functions"
   ]
  },
  {
   "cell_type": "markdown",
   "metadata": {},
   "source": [
    "### The loss function\n",
    "\n",
    "We define loss as being the sum of two (three) things:\n",
    "- len_loss: the loss from not meeting the nurse's preferred length\n",
    "- shift_loss: the loss from not scheduling everyone evenly as per their preferred length\n",
    "- (optional) staffing_cost: the total cost of the schedule\n",
    "\n",
    "I commented out staffing_cost because I wanted to see how it balanced the other two. With it on, it put the cheaper ones on more and I have trouble visually verifying that the other criteria were being satisfied.\n",
    "\n",
    "You may want to weight the different things differently. The *weights* mapping, lets you do that."
   ]
  },
  {
   "cell_type": "code",
   "execution_count": 24,
   "metadata": {
    "collapsed": true
   },
   "outputs": [],
   "source": [
    "def loss_func(schedule, weights = None):\n",
    "    l1 = sum([len_loss(w) for w in schedule])\n",
    "    #l2 = staffing_cost(schedule)\n",
    "    l3 = shift_loss(schedule)\n",
    "    \n",
    "    if weights is None:\n",
    "        weights = {'l1':1, 'l2':1, 'l3':1}\n",
    "        \n",
    "    return weights['l1'] * l1 + weights['l3']*l3"
   ]
  },
  {
   "cell_type": "markdown",
   "metadata": {},
   "source": [
    "We are only looking the *difference* between the preferred days and days worked. You could set it up as a percentage. So getting a 6 days shift if you prefer 7 is not as bad as getting a 2 day shift when you prefer 1."
   ]
  },
  {
   "cell_type": "code",
   "execution_count": 15,
   "metadata": {
    "collapsed": true
   },
   "outputs": [],
   "source": [
    "def len_loss(w):\n",
    "    loss = 0\n",
    "    \n",
    "    for n in range(num_nurses):\n",
    "        n_work_days = w.days_works(n)\n",
    "        if w.days_works(n) > 0:\n",
    "            loss += np.abs(n_work_days - preferred_len[n])\n",
    "    \n",
    "    return loss"
   ]
  },
  {
   "cell_type": "code",
   "execution_count": 16,
   "metadata": {
    "collapsed": true
   },
   "outputs": [],
   "source": [
    "def staffing_cost(schedule):\n",
    "    return sum([staffing_cost_week(w) for w in schedule])\n",
    "\n",
    "def staffing_cost_week(week):\n",
    "    return sum([cost[n] * week.days_works(n) for n in range(num_nurses)])"
   ]
  },
  {
   "cell_type": "markdown",
   "metadata": {},
   "source": [
    "The share of shifts must be close to the share based on preferred lengths"
   ]
  },
  {
   "cell_type": "code",
   "execution_count": 17,
   "metadata": {
    "collapsed": true
   },
   "outputs": [],
   "source": [
    "def shift_loss(schedule):\n",
    "    \n",
    "    total_shifts = np.zeros(num_nurses)\n",
    "    \n",
    "    for w in schedule:\n",
    "        for n in range(num_nurses):\n",
    "            total_shifts[n] = w.days_works(n)\n",
    "    \n",
    "    total_shifts = total_shifts / total_shifts.sum()\n",
    "    \n",
    "    return 2 * num_nurses * num_weeks * np.abs(preferred_len_prob - total_shifts).sum()"
   ]
  },
  {
   "cell_type": "markdown",
   "metadata": {},
   "source": [
    "### The proposal function\n",
    "\n",
    "The proposal function is pretty easy. Change \"perc_flip\" percent of weeks in the schedue. For each of those works, increment \"per_flip\" random nurse id. \n",
    "\n",
    "Note that this has the property that all states are *communicable* (all combinations of staffing is possible) and the chain has *detailed balance*. You can easily reverse the change, just reduce nurse id by 1."
   ]
  },
  {
   "cell_type": "code",
   "execution_count": 18,
   "metadata": {
    "collapsed": true
   },
   "outputs": [],
   "source": [
    "def proposal(schedule, perc_flip = 0.5, per_flip = 2):\n",
    "    weeks_to_flip = [ x for x in range(len(schedule)) if (np.random.random() > perc_flip) ]\n",
    "    #print(weeks_to_flip)\n",
    "    \n",
    "    new_schedule = schedule.copy()\n",
    "    \n",
    "    for w in weeks_to_flip:\n",
    "        new_schedule[w] = increment(new_schedule[w], per_flip)\n",
    "    \n",
    "    return new_schedule\n",
    "\n",
    "def increment(w, num = 2):\n",
    "    \n",
    "    new_w = w._asdict()\n",
    "    \n",
    "    for i in range(num):\n",
    "        day = days_of_week[np.random.randint(0, 7)]\n",
    "\n",
    "        if new_w[day] == (num_nurses - 1): new_w[day] = 0\n",
    "        else: new_w[day] += 1\n",
    "    \n",
    "    return Week(**new_w)"
   ]
  },
  {
   "cell_type": "markdown",
   "metadata": {},
   "source": [
    "### The simulated annealing function"
   ]
  },
  {
   "cell_type": "markdown",
   "metadata": {},
   "source": [
    "This is the workhorse that actually does the annealing. A lot of this code is borrowed from AM207 (Rahul Dave and team) but it's pretty standard stuff - I just didn't want to have to write it."
   ]
  },
  {
   "cell_type": "code",
   "execution_count": 20,
   "metadata": {},
   "outputs": [],
   "source": [
    "def sim_anneal(energyfunc, initials, epochs, tempfunc, iterfunc, proposalfunc):\n",
    "    \"\"\"\n",
    "    Run simulated annealing.\n",
    "    \"\"\"\n",
    "\n",
    "    accumulator=[]\n",
    "    \n",
    "    # Our initial state is in initials['solution']\n",
    "    best_solution = old_solution = initials['solution']\n",
    "    \n",
    "    # Our initial temperature is in initials['T']\n",
    "    T=initials['T']\n",
    "    \n",
    "    # Our initial length (i.e. number of iterations per epoch)\n",
    "    # is in initals['length']\n",
    "    length=initials['length']\n",
    "    \n",
    "    # initialize the energy of our current state by running the \n",
    "    # energy function on our initial solution\n",
    "    best_energy = old_energy = energyfunc(old_solution)\n",
    "    \n",
    "    # keep track of accepted proposals and total iterations\n",
    "    accepted=0\n",
    "    total=0\n",
    "    \n",
    "    for index in range(epochs):\n",
    "\n",
    "        # if we're past the first index, we need\n",
    "        # to update our cooling schedule and iteration\n",
    "        # schedule\n",
    "        if index > 0:\n",
    "            T = tempfunc(T)\n",
    "            length=iterfunc(length)\n",
    "        \n",
    "        if not index % 5:\n",
    "            print(\"EPOCH\", index, \": Temperature %0.2f\" % T, \"Length\", length, 'Loss %0.2f' % best_energy)\n",
    "        \n",
    "        # run through the iterations for each epoch\n",
    "        for it in range(length):\n",
    "            \n",
    "            # keep track of total proposals\n",
    "            total+=1\n",
    "            \n",
    "            # get a new proposal and calculate its energy\n",
    "            new_solution = proposalfunc(old_solution)\n",
    "            new_energy = energyfunc(new_solution)\n",
    "            \n",
    "            # Use a min here as you could get a \"probability\" > 1\n",
    "            alpha = min(1, np.exp((old_energy - new_energy)/T))\n",
    "            \n",
    "            if ((new_energy < old_energy) or (np.random.uniform() < alpha)):\n",
    "                \n",
    "                # Accept proposed solution\n",
    "                accepted += 1.0\n",
    "                accumulator.append({'epoch':index, 'T':T, 'schedule':new_solution, \n",
    "                                    'loss':new_energy, 'iteration':total})\n",
    "                \n",
    "                # we have a new candidate for optimum (minimum)\n",
    "                if new_energy < best_energy:\n",
    "                    # Replace previous best with this one\n",
    "                    best_energy = new_energy\n",
    "                    best_solution = new_solution\n",
    "                    best_index=total\n",
    "                    best_temp=T\n",
    "                    \n",
    "                old_energy = new_energy\n",
    "                old_solution = new_solution\n",
    "                \n",
    "            else:\n",
    "                # Keep track of old solution if we don't accept the new one\n",
    "                accumulator.append({'epoch':index, 'T':T, 'schedule':old_solution, \n",
    "                                    'loss':old_energy, 'iteration':total})\n",
    "                \n",
    "    # Print some results\n",
    "    print(\"------\")\n",
    "    print(\"\\nFrac accepted : \", accepted/total, \"\\nTotal iterations : \", total, \"\\nSolution :\", old_solution)\n",
    "    print(\"Final Energy :\", best_energy, \"Final length :\", length)\n",
    "    \n",
    "    return best_energy, best_solution, accumulator"
   ]
  },
  {
   "cell_type": "markdown",
   "metadata": {},
   "source": [
    "### Plot the results\n",
    "\n",
    "This function just draws a heatmap that helps to visualize the final schedule."
   ]
  },
  {
   "cell_type": "code",
   "execution_count": 21,
   "metadata": {
    "collapsed": true
   },
   "outputs": [],
   "source": [
    "def plot_schedule(schedule):\n",
    "    all_data = {}\n",
    "    for i, w in enumerate(bs):\n",
    "        all_data['week' + str(i)] = w._asdict()\n",
    "    \n",
    "    df = pd.DataFrame(all_data)\n",
    "    df = df.loc[days_of_week,:].T\n",
    "    \n",
    "    fig, ax = plt.subplots(1,1,figsize=(10,8))\n",
    "    ax = sns.heatmap(df, cmap=\"Set1\", linewidths=1, square=True, ax = ax)\n",
    "    \n",
    "    cbar = ax.collections[0].colorbar\n",
    "    cbar.set_ticks(np.linspace(0.5, num_nurses - 1 + 0.5, num_nurses ))\n",
    "    cbar.set_ticklabels(np.linspace(0.5, num_nurses - 1 + 0.5, num_nurses ) - 0.5)\n",
    "\n",
    "    return df"
   ]
  },
  {
   "cell_type": "markdown",
   "metadata": {},
   "source": [
    "## Results"
   ]
  },
  {
   "cell_type": "markdown",
   "metadata": {},
   "source": [
    "Try playing around with *perc_flip* and *per_flip*. Now that I think about it, these are terribly named. Sorry - doing this late at night makes for bad variable name choices."
   ]
  },
  {
   "cell_type": "code",
   "execution_count": 25,
   "metadata": {
    "collapsed": true
   },
   "outputs": [],
   "source": [
    "prop_part = partial(proposal, perc_flip = 0.5, per_flip = 3)"
   ]
  },
  {
   "cell_type": "markdown",
   "metadata": {},
   "source": [
    "Set initials and run it!"
   ]
  },
  {
   "cell_type": "code",
   "execution_count": 26,
   "metadata": {},
   "outputs": [
    {
     "name": "stdout",
     "output_type": "stream",
     "text": [
      "EPOCH 0 : Temperature 5000.00 Length 7 Loss 324.89\n",
      "EPOCH 5 : Temperature 2952.45 Length 13 Loss 186.10\n",
      "EPOCH 10 : Temperature 1743.39 Length 24 Loss 186.10\n",
      "EPOCH 15 : Temperature 1029.46 Length 41 Loss 186.10\n",
      "EPOCH 20 : Temperature 607.88 Length 70 Loss 178.63\n",
      "EPOCH 25 : Temperature 358.95 Length 115 Loss 178.63\n",
      "EPOCH 30 : Temperature 211.96 Length 188 Loss 178.63\n",
      "EPOCH 35 : Temperature 125.16 Length 305 Loss 171.63\n",
      "EPOCH 40 : Temperature 73.90 Length 494 Loss 171.63\n",
      "EPOCH 45 : Temperature 43.64 Length 798 Loss 156.10\n",
      "EPOCH 50 : Temperature 25.77 Length 1287 Loss 151.10\n",
      "EPOCH 55 : Temperature 15.22 Length 2075 Loss 151.10\n",
      "EPOCH 60 : Temperature 8.99 Length 3346 Loss 140.10\n",
      "EPOCH 65 : Temperature 5.31 Length 5392 Loss 132.10\n",
      "EPOCH 70 : Temperature 3.13 Length 8687 Loss 129.10\n",
      "EPOCH 75 : Temperature 1.85 Length 13994 Loss 116.10\n",
      "EPOCH 80 : Temperature 1.09 Length 22541 Loss 102.10\n",
      "EPOCH 85 : Temperature 0.65 Length 36306 Loss 89.10\n",
      "------\n",
      "\n",
      "Frac accepted :  0.06363939785535178 \n",
      "Total iterations :  584245 \n",
      "Solution : [Week(m=2, tu=1, w=2, th=2, f=9, sa=9, su=2), Week(m=4, tu=4, w=4, th=5, f=1, sa=4, su=5), Week(m=4, tu=4, w=7, th=4, f=4, sa=4, su=7), Week(m=1, tu=2, w=9, th=2, f=2, sa=2, su=2), Week(m=3, tu=3, w=3, th=8, f=7, sa=3, su=3), Week(m=0, tu=0, w=4, th=4, f=4, sa=4, su=0), Week(m=3, tu=9, w=3, th=1, f=3, sa=3, su=3), Week(m=4, tu=4, w=4, th=1, f=4, sa=7, su=4), Week(m=8, tu=3, w=3, th=3, f=1, sa=7, su=3), Week(m=2, tu=3, w=6, th=0, f=9, sa=5, su=4)]\n",
      "Final Energy : 89.1008403361 Final length : 53158\n"
     ]
    }
   ],
   "source": [
    "initials = {}\n",
    "initials['T'] = 5000\n",
    "initials['solution'] = schedule\n",
    "initials['length'] = 7\n",
    "\n",
    "epochs = 90\n",
    "\n",
    "tempfunc = lambda t: t * 0.9\n",
    "lengthfunc = lambda l : int(np.ceil(l * 1.1))\n",
    "\n",
    "\n",
    "be, bs, acc = sim_anneal(loss_func, initials, epochs, tempfunc, lengthfunc, prop_part)"
   ]
  },
  {
   "cell_type": "markdown",
   "metadata": {},
   "source": [
    "Let's see what our loss looks like"
   ]
  },
  {
   "cell_type": "code",
   "execution_count": 27,
   "metadata": {
    "collapsed": true
   },
   "outputs": [],
   "source": [
    "acc_df = pd.DataFrame(acc)"
   ]
  },
  {
   "cell_type": "code",
   "execution_count": 28,
   "metadata": {},
   "outputs": [
    {
     "data": {
      "text/plain": [
       "[<matplotlib.lines.Line2D at 0x1a249829b0>]"
      ]
     },
     "execution_count": 28,
     "metadata": {},
     "output_type": "execute_result"
    },
    {
     "data": {
      "image/png": "[encoded data removed]",
      "text/plain": [
       "<matplotlib.figure.Figure at 0x10c493940>"
      ]
     },
     "metadata": {},
     "output_type": "display_data"
    }
   ],
   "source": [
    "plt.plot(acc_df.loss)"
   ]
  },
  {
   "cell_type": "markdown",
   "metadata": {},
   "source": [
    "Ok cool. Looks like we do get to a steady state towards the end. \n",
    "Play around with changing the initial temp, tempfunc, and lengthfunc and see if you can improve it. Here's the best solution and the best loss"
   ]
  },
  {
   "cell_type": "code",
   "execution_count": 29,
   "metadata": {},
   "outputs": [
    {
     "data": {
      "text/plain": [
       "([Week(m=3, tu=3, w=3, th=3, f=1, sa=8, su=3),\n",
       "  Week(m=5, tu=5, w=9, th=5, f=9, sa=1, su=8),\n",
       "  Week(m=9, tu=2, w=1, th=9, f=2, sa=9, su=2),\n",
       "  Week(m=1, tu=5, w=5, th=8, f=5, sa=5, su=5),\n",
       "  Week(m=8, tu=3, w=5, th=5, f=3, sa=3, su=3),\n",
       "  Week(m=5, tu=2, w=5, th=7, f=7, sa=5, su=2),\n",
       "  Week(m=6, tu=7, w=7, th=8, f=6, sa=6, su=6),\n",
       "  Week(m=1, tu=3, w=3, th=7, f=3, sa=3, su=3),\n",
       "  Week(m=2, tu=6, w=6, th=6, f=2, sa=2, su=2),\n",
       "  Week(m=2, tu=3, w=6, th=0, f=9, sa=5, su=4)],\n",
       " 89.100840336134468)"
      ]
     },
     "execution_count": 29,
     "metadata": {},
     "output_type": "execute_result"
    }
   ],
   "source": [
    "bs, be"
   ]
  },
  {
   "cell_type": "markdown",
   "metadata": {},
   "source": [
    "Let's visualize the schedule"
   ]
  },
  {
   "cell_type": "code",
   "execution_count": 30,
   "metadata": {},
   "outputs": [
    {
     "data": {
      "image/png": "[encoded data removed]",
      "text/plain": [
       "<matplotlib.figure.Figure at 0x1a25ccfc50>"
      ]
     },
     "metadata": {},
     "output_type": "display_data"
    }
   ],
   "source": [
    "_ = plot_schedule(bs)"
   ]
  },
  {
   "cell_type": "markdown",
   "metadata": {},
   "source": [
    "## Discussion "
   ]
  },
  {
   "cell_type": "markdown",
   "metadata": {},
   "source": [
    "Check out the *preferred_length* and *staff cost* (if you used it) and see if the results make sense. For one, why does '0' just get one shift? Same with '4'? Might be that someone has to miss out given the contraints. Maybe the loss from shift_loss should be quadratic - further away you are from optimum, greater the loss."
   ]
  },
  {
   "cell_type": "code",
   "execution_count": 37,
   "metadata": {},
   "outputs": [
    {
     "name": "stdout",
     "output_type": "stream",
     "text": [
      "Preferred_length\t {0: 4, 1: 1, 2: 4, 3: 5, 4: 5, 5: 5, 6: 4, 7: 2, 8: 1, 9: 3}\n"
     ]
    }
   ],
   "source": [
    "print(\"Preferred_length:\\t\", dict(zip(range(10), preferred_len)))"
   ]
  },
  {
   "cell_type": "code",
   "execution_count": 38,
   "metadata": {},
   "outputs": [
    {
     "name": "stdout",
     "output_type": "stream",
     "text": [
      "Staff_cost:\t\t {0: 1, 1: 6, 2: 5, 3: 5, 4: 1, 5: 6, 6: 4, 7: 5, 8: 5, 9: 1}\n"
     ]
    }
   ],
   "source": [
    "print(\"Staff_cost:\\t\\t\", dict(zip(range(10), cost)))"
   ]
  },
  {
   "cell_type": "markdown",
   "metadata": {},
   "source": [
    "- Can you figure out ways to improve it? \n",
    "- Can that be coded in the loss function? \n",
    "- Can we use that to come up with a better proposal function?"
   ]
  },
  {
   "cell_type": "markdown",
   "metadata": {
    "collapsed": true
   },
   "source": [
    "## Conclusion\n",
    "\n",
    "I hope this gave you a rough idea on how to use simulated annealing. If you come up with cool proposal functions or fancier loss functions, I'd love to hear about this: https://sidravi1.com/"
   ]
  },
  {
   "cell_type": "code",
   "execution_count": null,
   "metadata": {
    "collapsed": true
   },
   "outputs": [],
   "source": []
  }
 ],
 "metadata": {
  "kernelspec": {
   "display_name": "Python 3",
   "language": "python",
   "name": "python3"
  },
  "language_info": {
   "codemirror_mode": {
    "name": "ipython",
    "version": 3
   },
   "file_extension": ".py",
   "mimetype": "text/x-python",
   "name": "python",
   "nbconvert_exporter": "python",
   "pygments_lexer": "ipython3",
   "version": "3.6.3"
  }
 },
 "nbformat": 4,
 "nbformat_minor": 2
}
